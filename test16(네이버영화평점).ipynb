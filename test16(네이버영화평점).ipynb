{
 "cells": [
  {
   "cell_type": "code",
   "execution_count": 1,
   "id": "a19d9c7d-b463-411d-ab27-86c58ab19be5",
   "metadata": {},
   "outputs": [],
   "source": [
    "from urllib.request import urlopen\n",
    "from bs4 import BeautifulSoup as bs"
   ]
  },
  {
   "cell_type": "code",
   "execution_count": 32,
   "id": "64a2463b-34cb-4fcc-b6d2-7d2366f81f9b",
   "metadata": {
    "tags": []
   },
   "outputs": [],
   "source": [
    "def getLink(page):\n",
    "    html=urlopen(\"https://movie.naver.com/movie/point/af/list.naver\")\n",
    "    obj=bs(html, 'html.parser')\n",
    "    all_text=obj.select('td.title')\n",
    "    #print(all_text)\n",
    "    data_list=[]\n",
    "    for td in all_text:\n",
    "        text_arr=td.text.replace('신고','').replace(\"\\t\",\"\").replace(\"\\n\\n\\n\\n\",\"\").strip().split(\"\\n\\n\")\n",
    "        text_arr[1]=int(text_arr[1][text_arr[1].find('중')+1:])\n",
    "        if len(text_arr)<3:\n",
    "            text_arr.append('-')\n",
    "        data_list.append(tuple(text_arr))\n",
    "    #print(data_list)\n",
    "    return data_list"
   ]
  },
  {
   "cell_type": "code",
   "execution_count": 33,
   "id": "e78f6fbd-ad04-4d78-a022-adf517a3f957",
   "metadata": {},
   "outputs": [],
   "source": [
    "import pandas as pd\n",
    "def csv_save(data_total):\n",
    "    df=pd.DataFrame(data_total, columns=['title','point','review'])\n",
    "    df.to_csv('data/movie_reviews.csv',index=False)\n",
    "    #print(df)"
   ]
  },
  {
   "cell_type": "code",
   "execution_count": 36,
   "id": "2740df4c-1d96-4358-a45e-6d4f538bb1b3",
   "metadata": {},
   "outputs": [],
   "source": [
    "import pymysql\n",
    "def mysql_save(data_total):\n",
    "    conn=pymysql.connect(host='localhost', user='nyy', password='1234', db='py_mysql_db', charset='utf8')\n",
    "    cursor=conn.cursor()\n",
    "    sql=\"insert into movie_reviews(title, point, review) values(%s, %s, %s)\"\n",
    "    cursor.executemany(sql, data_total)\n",
    "    conn.commit()\n",
    "    conn.close()"
   ]
  },
  {
   "cell_type": "code",
   "execution_count": 37,
   "id": "392beb38-db9e-4437-86ec-fd3a88cad927",
   "metadata": {},
   "outputs": [],
   "source": [
    "data_total=[]\n",
    "for i in range(1,11):\n",
    "    data_total.extend(getLink(i))\n",
    "#print(data_total)\n",
    "#csv_save(data_total)\n",
    "mysql_save(data_total)"
   ]
  },
  {
   "cell_type": "code",
   "execution_count": 40,
   "id": "4f339cf4-714d-495d-924d-4c4fa9223a1d",
   "metadata": {},
   "outputs": [
    {
     "name": "stdout",
     "output_type": "stream",
     "text": [
      "[('싱크홀', 8, '걍 진짜 킬링타임용 앜엌 차승원 개웃겨 구세주임희생자 부분에서 좀 신파 감성이 없지 않아 있긴 함'), ('장르만 로맨스', 7, '배우들이 좋아서 봤어요. 그런대로 볼만해요.'), ('틱, 틱... 붐!', 10, '뮤지컬 영화는 항상 평균 이상은 한다. 음악과 함께 배우들의 율동과 노래로 관객들의 마음을 움직이기 때문이다. 여기에 실화 바탕의 스토리라면 이보다 더 완벽할 수가 없다.'), ('싱크홀', 4, '넷플에서 한 시간 정도 보다가 도저히 끝까지 볼 인내가 바닥나서 감독정보를 보니.. 음.. 7광구를 만드셨던 분이네요. 그래도 화려한 휴가는 괜찮았는데.. 다른 건 둘째치고 앞으로 유머코드는 시도 안하셨음 좋겠어요. 너무 감떨어지고 유치해요. 요즘 액션, CG가  중요하다 하지만 스토리와 대사발도 여전히 중요하답니다. 영화에 철학까진 안담겨도 의미를 주거나 재미를 주거나 아님 감동이 있거나 셋 중 하나는 있어야죠. 그래도 100만 넘게 봤다해서 킬링타임용으로 보려했는데 waste time 이 될 것 같아 보다 껐네요.'), ('연애 빠진 로맨스', 8, '내 나이 29살 결말  빼고 완벽했다 내 결말인가 싶었다'), ('샹치와 텐 링즈의 전설', 10, '샹치보단 양조위가 개간지다 ㄷㄷ'), ('이터널스', 1, '희대의 쓰레기영화 내용을 신경쓴게 아니고 pc주의라는 이상한 싸이비 이념을 강조...'), ('이터널스', 1, '히로시마 원폭이 뭐 대학살? 일본이 피해자라고?각본가 너때문에 이제 마블 거른다'), ('레버넌트: 죽음에서 돌아온 자', 9, '일종의 자연재해처럼 그려지는 인디언 원주민들로 인해 복수가 배경이고 자연이 주인공처럼 느껴진다.'), ('유체이탈자', 10, '스릴넘치고 굉장한 영화네요!')]\n"
     ]
    }
   ],
   "source": [
    "\n",
    "title_list=[]\n",
    "point_list=[]\n",
    "review_list=[]\n",
    "movie_reviews=[]\n",
    "\n",
    "titles=obj.select('td.title>a')\n",
    "for i in range(len(titles)):\n",
    "    if i%2==0:\n",
    "        title=titles[i].string\n",
    "        title_list.append(title)\n",
    "\n",
    "points=obj.select('td.title > div > em')\n",
    "#print(points)\n",
    "for point in points:\n",
    "    point_list.append(int(point.string))\n",
    "\n",
    "\n",
    "reviews=obj.select('td.title')\n",
    "for review in reviews:\n",
    "    text_arr=review.text.replace('신고','').replace(\"\\t\",\"\").replace(\"\\n\\n\\n\\n\",\"\").strip().split(\"\\n\\n\")\n",
    "    if len(text_arr)<3:\n",
    "        review_list.append('-')\n",
    "    else:\n",
    "        review_list.append(text_arr[2])\n",
    "        \n",
    "#print(review_arr)\n",
    "\n",
    "for i in range(10):\n",
    "    movie_reviews.append(tuple([title_list[i],point_list[i],review_list[i]]))\n",
    "print(movie_reviews)"
   ]
  }
 ],
 "metadata": {
  "kernelspec": {
   "display_name": "Python 3",
   "language": "python",
   "name": "python3"
  },
  "language_info": {
   "codemirror_mode": {
    "name": "ipython",
    "version": 3
   },
   "file_extension": ".py",
   "mimetype": "text/x-python",
   "name": "python",
   "nbconvert_exporter": "python",
   "pygments_lexer": "ipython3",
   "version": "3.8.8"
  }
 },
 "nbformat": 4,
 "nbformat_minor": 5
}
