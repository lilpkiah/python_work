{
 "cells": [
  {
   "cell_type": "code",
   "execution_count": 1,
   "id": "3786a5e2-014a-4151-8403-fb8b6a6ecc7e",
   "metadata": {},
   "outputs": [],
   "source": [
    "def f(x):\n",
    "    y=x\n",
    "    x=5\n",
    "    return x*y"
   ]
  },
  {
   "cell_type": "code",
   "execution_count": 2,
   "id": "813c3bb2-2d56-4c75-9ab0-d6c7ab21ece4",
   "metadata": {},
   "outputs": [
    {
     "name": "stdout",
     "output_type": "stream",
     "text": [
      "15\n",
      "3\n"
     ]
    }
   ],
   "source": [
    "x=3\n",
    "print(f(x))\n",
    "print(x)"
   ]
  },
  {
   "cell_type": "code",
   "execution_count": 7,
   "id": "7d37b765-717d-467f-ab02-31e349e5f056",
   "metadata": {},
   "outputs": [],
   "source": [
    "def spam(eggs):\n",
    "    eggs.append(1)\n",
    "    eggs.append(2)\n",
    "    eggs.append(3)"
   ]
  },
  {
   "cell_type": "code",
   "execution_count": 8,
   "id": "8fb0b103-4583-4e3f-8686-a32bc716f6c8",
   "metadata": {},
   "outputs": [
    {
     "name": "stdout",
     "output_type": "stream",
     "text": [
      "[0, 1, 2, 3]\n"
     ]
    }
   ],
   "source": [
    "ham=[0]\n",
    "spam(ham)\n",
    "print(ham)"
   ]
  },
  {
   "cell_type": "code",
   "execution_count": 10,
   "id": "74e6f040-fa11-493d-a36c-203cd78cedca",
   "metadata": {},
   "outputs": [
    {
     "name": "stdout",
     "output_type": "stream",
     "text": [
      "I love Paris! 1\n",
      "I love London! 2\n",
      "I love London! 3\n"
     ]
    }
   ],
   "source": [
    "def f():\n",
    "    global s\n",
    "    s=\"I love London!\"\n",
    "    print(s, 2)\n",
    "\n",
    "s=\"I love Paris!\"\n",
    "print(s, 1)\n",
    "f()\n",
    "print(s, 3)"
   ]
  },
  {
   "cell_type": "code",
   "execution_count": 11,
   "id": "67d43758-60db-4a20-9d4a-f9778702b92e",
   "metadata": {},
   "outputs": [],
   "source": [
    "def func(name, age):\n",
    "    print(name, age)"
   ]
  },
  {
   "cell_type": "code",
   "execution_count": 14,
   "id": "aaf3f8f5-9059-48b5-8e0d-294b88efe3bb",
   "metadata": {},
   "outputs": [
    {
     "name": "stdout",
     "output_type": "stream",
     "text": [
      "홍길동 20\n",
      "홍길동 20\n",
      "aaa 30\n"
     ]
    }
   ],
   "source": [
    "func('홍길동', 20)\n",
    "func(age=20, name=\"홍길동\")\n",
    "func('aaa', 30)"
   ]
  },
  {
   "cell_type": "code",
   "execution_count": 15,
   "id": "26646ab5-21ff-410d-a431-d78c578ad413",
   "metadata": {},
   "outputs": [],
   "source": [
    "def func2(name, age=20):\n",
    "    print(name, age)"
   ]
  },
  {
   "cell_type": "code",
   "execution_count": 16,
   "id": "4cf65fb1-92a6-40d6-8210-e05734c94d91",
   "metadata": {},
   "outputs": [
    {
     "name": "stdout",
     "output_type": "stream",
     "text": [
      "aaaa 10\n",
      "bbbb 20\n"
     ]
    }
   ],
   "source": [
    "func2('aaaa',10)\n",
    "func2('bbbb')"
   ]
  },
  {
   "cell_type": "code",
   "execution_count": 17,
   "id": "b4975f38-28df-43df-854e-6b9970a4e961",
   "metadata": {},
   "outputs": [],
   "source": [
    "def func3(a, b, *c):\n",
    "    print(a, b, c)"
   ]
  },
  {
   "cell_type": "code",
   "execution_count": 18,
   "id": "5d4dbcaf-af54-47cf-bfdc-0a4f31d671f2",
   "metadata": {},
   "outputs": [
    {
     "name": "stdout",
     "output_type": "stream",
     "text": [
      "1 2 (3,)\n",
      "1 2 (3, 4, 5)\n",
      "1 2 (3, 4, 5, 6, 7, 8)\n"
     ]
    }
   ],
   "source": [
    "func3(1,2,3)\n",
    "func3(1,2,3,4,5)\n",
    "func3(1,2,3,4,5,6,7,8)"
   ]
  },
  {
   "cell_type": "code",
   "execution_count": 21,
   "id": "c7419ab4-d660-44e4-b971-143c290daf00",
   "metadata": {},
   "outputs": [],
   "source": [
    "def func4(*args):\n",
    "    print(args)\n",
    "    a,b,*c=args\n",
    "    print(a,b,c)"
   ]
  },
  {
   "cell_type": "code",
   "execution_count": 22,
   "id": "09f0cfbf-6f48-4f2e-8b27-0c90a661fa5d",
   "metadata": {},
   "outputs": [
    {
     "name": "stdout",
     "output_type": "stream",
     "text": [
      "(1, 2, 3, 4)\n",
      "1 2 [3, 4]\n"
     ]
    }
   ],
   "source": [
    "func4(1,2,3,4)"
   ]
  },
  {
   "cell_type": "code",
   "execution_count": 23,
   "id": "c69ab5ab-6dd8-431c-89bd-e1ebd02ab307",
   "metadata": {},
   "outputs": [],
   "source": [
    "def func5(**kargs):\n",
    "    print(kargs)\n",
    "    print('첫번째 값 {first}'.format(**kargs))\n",
    "    print('두번째 값 {second}'.format(**kargs))\n",
    "    print('세번째 값 {third}'.format(**kargs))\n",
    "    "
   ]
  },
  {
   "cell_type": "code",
   "execution_count": 24,
   "id": "b4f7eefc-7932-4be2-b228-a2c3bb1f1dca",
   "metadata": {},
   "outputs": [
    {
     "name": "stdout",
     "output_type": "stream",
     "text": [
      "{'first': 10, 'second': 20, 'third': 30}\n",
      "첫번째 값 10\n",
      "두번째 값 20\n",
      "세번째 값 30\n"
     ]
    }
   ],
   "source": [
    "func5(first=10, second=20, third=30)"
   ]
  },
  {
   "cell_type": "code",
   "execution_count": 25,
   "id": "61281a8b-9037-480b-9267-e0a7e7d58db7",
   "metadata": {},
   "outputs": [],
   "source": [
    "def func6(one, two, *args, **kwargs):\n",
    "    print(one, two, args)\n",
    "    print(kwargs)"
   ]
  },
  {
   "cell_type": "code",
   "execution_count": 26,
   "id": "9696dc62-4c43-41eb-ae2f-44cf9a7f0368",
   "metadata": {},
   "outputs": [
    {
     "name": "stdout",
     "output_type": "stream",
     "text": [
      "1 2 (3, 4)\n",
      "{'first': 10, 'second': 20, 'third': 30}\n"
     ]
    }
   ],
   "source": [
    "func6(1,2,3,4, first=10, second=20, third=30)"
   ]
  },
  {
   "cell_type": "code",
   "execution_count": 1,
   "id": "3d9a39c6-5c97-4b31-8273-bb23f162bfad",
   "metadata": {},
   "outputs": [
    {
     "name": "stdout",
     "output_type": "stream",
     "text": [
      "TEAM LAB1\n"
     ]
    }
   ],
   "source": [
    "a=\"TEAM\"\n",
    "b=\"LAB\"\n",
    "c=a+\" \"+b\n",
    "print(c+str(1))"
   ]
  },
  {
   "cell_type": "code",
   "execution_count": 6,
   "id": "cb2cbc41-50a1-45de-a6ad-9ce23626cd23",
   "metadata": {},
   "outputs": [
    {
     "name": "stdout",
     "output_type": "stream",
     "text": [
      "TEMLAB X INFLEARN\n",
      "temlab x inflearn\n",
      "Temlab X Inflearn\n",
      "Temlab x inflearn\n",
      "2\n",
      "False\n",
      "True\n",
      "False\n",
      "['TEMLAB', 'X', 'Inflearn']\n"
     ]
    }
   ],
   "source": [
    "s1=\"TEMLAB X Inflearn\"\n",
    "print(s1.upper())\n",
    "print(s1.lower())\n",
    "print(s1.title())\n",
    "print(s1.capitalize())\n",
    "print(s1.lower().count('a'))\n",
    "print(s1.isdigit())\n",
    "print(s1.lower().startswith(\"tem\"))\n",
    "print(s1.endswith(\".\"))\n",
    "str_arr=s1.split()\n",
    "print(str_arr)"
   ]
  },
  {
   "cell_type": "code",
   "execution_count": 7,
   "id": "f80020f4-56f4-454a-977c-511aa746e2b6",
   "metadata": {},
   "outputs": [
    {
     "name": "stdout",
     "output_type": "stream",
     "text": [
      "It's Ok\n",
      "I'm Happy\n",
      "See you\n",
      "\n"
     ]
    }
   ],
   "source": [
    "a=\"\"\"It\\'s Ok\n",
    "I\\'m Happy\n",
    "See you\n",
    "\"\"\"\n",
    "\n",
    "print(a)"
   ]
  },
  {
   "cell_type": "code",
   "execution_count": 9,
   "id": "203545c4-2d15-4366-9621-77d92c37084c",
   "metadata": {},
   "outputs": [
    {
     "data": {
      "text/plain": [
       "['Yesterday all my troubles\\n',\n",
       " 'seemed so far away.\\n',\n",
       " 'Now it looks\\n',\n",
       " \"as though they're here to stay.\\n\",\n",
       " 'Oh, I believe in yesterday.\\n',\n",
       " '\\n',\n",
       " \"Suddenly I'm not half\\n\",\n",
       " 'the man I used to be.\\n',\n",
       " \"There's a shadow hanging over me.\\n\",\n",
       " 'Oh, yesterday came suddenly.\\n',\n",
       " '\\n',\n",
       " 'Why she had to go,\\n',\n",
       " \"I don't know,\\n\",\n",
       " \"she wouldn't say.\\n\",\n",
       " 'I said something wrong,\\n',\n",
       " 'now I long for yesterday.\\n',\n",
       " '\\n',\n",
       " 'Yesterday love was\\n',\n",
       " 'such an easy game to play.\\n',\n",
       " 'Now I need a place to hide away.\\n',\n",
       " 'Oh, I believe in yesterday.\\n',\n",
       " '\\n',\n",
       " 'Why she had to go,\\n',\n",
       " \"I don't know,\\n\",\n",
       " \"she wouldn't say.\\n\",\n",
       " 'I said something wrong,\\n',\n",
       " 'now I long for yesterday.\\n',\n",
       " '\\n',\n",
       " 'Yesterday love was\\n',\n",
       " 'such an easy game to play.\\n',\n",
       " 'Now I need a place to hide away.\\n',\n",
       " 'Oh, I believe in yesterday.\\n',\n",
       " '\\n',\n",
       " 'Mm mm mm mm mm mm mm\\n']"
      ]
     },
     "execution_count": 9,
     "metadata": {},
     "output_type": "execute_result"
    }
   ],
   "source": [
    "f=open('data/yesterday.txt', 'r')\n",
    "yesterday_line=f.readlines()\n",
    "f.close()\n",
    "yesterday_line"
   ]
  },
  {
   "cell_type": "code",
   "execution_count": 11,
   "id": "2c5fc4d2-7d1e-417a-8a63-45aa7c0c389c",
   "metadata": {},
   "outputs": [
    {
     "data": {
      "text/plain": [
       "\"Yesterday all my troubles seemed so far away. Now it looks as though they're here to stay. Oh, I believe in yesterday.  Suddenly I'm not half the man I used to be. There's a shadow hanging over me. Oh, yesterday came suddenly.  Why she had to go, I don't know, she wouldn't say. I said something wrong, now I long for yesterday.  Yesterday love was such an easy game to play. Now I need a place to hide away. Oh, I believe in yesterday.  Why she had to go, I don't know, she wouldn't say. I said something wrong, now I long for yesterday.  Yesterday love was such an easy game to play. Now I need a place to hide away. Oh, I believe in yesterday.  Mm mm mm mm mm mm mm \""
      ]
     },
     "execution_count": 11,
     "metadata": {},
     "output_type": "execute_result"
    }
   ],
   "source": [
    "contents=''\n",
    "for line in yesterday_line:\n",
    "    contents+=line.strip()+\" \"\n",
    "    \n",
    "contents"
   ]
  },
  {
   "cell_type": "code",
   "execution_count": null,
   "id": "1cd37b5a-336b-4b7d-9a12-58004a02bdf0",
   "metadata": {},
   "outputs": [],
   "source": [
    "n_of_yesterday=contents.lower().count('yesterday')\n",
    "print(\"N\")"
   ]
  },
  {
   "cell_type": "code",
   "execution_count": 2,
   "id": "60930c4c-f7e2-489d-9226-cc5640b00d5a",
   "metadata": {},
   "outputs": [
    {
     "name": "stdout",
     "output_type": "stream",
     "text": [
      "이름은 홍길동이고 나이는 20입니다\n",
      "이름은 홍길동이고 나이는 20입니다.\n"
     ]
    }
   ],
   "source": [
    "#문자열 서식\n",
    "name='홍길동'\n",
    "age=20\n",
    "s1=\"이름은 %s이고 나이는 %d입니다\"%(name, age)\n",
    "print(s1)\n",
    "\n",
    "s2=\"이름은 {}이고 나이는 {}입니다.\".format(name, age)\n",
    "print(s2)"
   ]
  },
  {
   "cell_type": "code",
   "execution_count": 7,
   "id": "3efe27fa-bcbe-4a0a-9003-bd37e56c7aa4",
   "metadata": {},
   "outputs": [
    {
     "name": "stdout",
     "output_type": "stream",
     "text": [
      "I'm    40 years old, my name is        홍길동 and Price per unit 5.23\n",
      "I am 40 years old, my name is 홍길동 and Price per unit 5.23\n"
     ]
    }
   ],
   "source": [
    "age=40;name=\"홍길동\";unit=5.234\n",
    "print(\"I'm {1:5d} years old, my name is {0:>10s} and Price per unit {2:.2f}\".format(name,age,unit))\n",
    "\n",
    "print(\"I am %d years old, my name is %s and Price per unit %.2f\"%(age,name,unit))"
   ]
  }
 ],
 "metadata": {
  "kernelspec": {
   "display_name": "Python 3",
   "language": "python",
   "name": "python3"
  },
  "language_info": {
   "codemirror_mode": {
    "name": "ipython",
    "version": 3
   },
   "file_extension": ".py",
   "mimetype": "text/x-python",
   "name": "python",
   "nbconvert_exporter": "python",
   "pygments_lexer": "ipython3",
   "version": "3.8.8"
  }
 },
 "nbformat": 4,
 "nbformat_minor": 5
}
