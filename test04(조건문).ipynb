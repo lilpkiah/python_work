{
 "cells": [
  {
   "cell_type": "code",
   "execution_count": null,
   "id": "33c47ff3-9370-499d-b0be-d49d8c24cb5d",
   "metadata": {},
   "outputs": [],
   "source": []
  },
  {
   "cell_type": "code",
   "execution_count": 1,
   "id": "cf148db9-2231-4078-9b67-49bc66e5fcc5",
   "metadata": {},
   "outputs": [
    {
     "name": "stdout",
     "output_type": "stream",
     "text": [
      "합격\n",
      "축하합니다\n",
      "end\n"
     ]
    }
   ],
   "source": [
    "#if-else문\n",
    "score=80\n",
    "\n",
    "if score>70:\n",
    "    print(\"합격\")\n",
    "    print(\"축하합니다\")\n",
    "else:\n",
    "    print(\"불합격\")\n",
    "    print(\"다음기회에 다시 도전하세요\")\n",
    "    \n",
    "print(\"end\")"
   ]
  },
  {
   "cell_type": "code",
   "execution_count": 2,
   "id": "b43a9e4f-ba44-4002-bc8a-befbaf6189af",
   "metadata": {},
   "outputs": [
    {
     "name": "stdin",
     "output_type": "stream",
     "text": [
      "input score: 70\n"
     ]
    },
    {
     "name": "stdout",
     "output_type": "stream",
     "text": [
      "C\n"
     ]
    }
   ],
   "source": [
    "score=int(input(\"input score:\"))\n",
    "\n",
    "if score>=90:\n",
    "    print('A')\n",
    "elif score>=80:\n",
    "    print('B')\n",
    "elif score>=70:\n",
    "    print('C')\n",
    "else:\n",
    "    print(\"F\")"
   ]
  },
  {
   "cell_type": "code",
   "execution_count": 7,
   "id": "80f7b672-c597-46fd-aba0-e6afec61891b",
   "metadata": {},
   "outputs": [
    {
     "name": "stdin",
     "output_type": "stream",
     "text": [
      "당신이 태어난 연도를 입력하세요 :  1982\n"
     ]
    },
    {
     "name": "stdout",
     "output_type": "stream",
     "text": [
      "학생이 아닙니다\n"
     ]
    }
   ],
   "source": [
    "brith=int(input(\"당신이 태어난 연도를 입력하세요 : \"))\n",
    "age=2021 - brith + 1\n",
    "\n",
    "if age <= 26 and age >=20:\n",
    "    print(\"대학생\")\n",
    "elif age < 20 and age >= 17:\n",
    "    print(\"고등학생\")\n",
    "elif age < 17 and age >=14:\n",
    "    print(\"중학생\")\n",
    "elif age < 14 and age >= 8:\n",
    "    print(\"초등학생\")\n",
    "else:\n",
    "    print(\"학생이 아닙니다\")"
   ]
  },
  {
   "cell_type": "code",
   "execution_count": 8,
   "id": "00f45118-0c18-42ca-8a16-b6a3dc5d5c1e",
   "metadata": {},
   "outputs": [
    {
     "name": "stdin",
     "output_type": "stream",
     "text": [
      "당신이 태어난 연도를 입력하세요 :  1990\n"
     ]
    },
    {
     "name": "stdout",
     "output_type": "stream",
     "text": [
      "age= 32\n",
      "학생이 아닙니다\n"
     ]
    }
   ],
   "source": [
    "brith=int(input(\"당신이 태어난 연도를 입력하세요 : \"))\n",
    "age=2021 - brith + 1\n",
    "print('age=', age)\n",
    "\n",
    "if age < 8 or age > 26:\n",
    "    print(\"학생이 아닙니다\")\n",
    "elif age >= 20:\n",
    "    print(\"대학생\")\n",
    "elif age >= 17:\n",
    "    print(\"고등학생\")\n",
    "elif age >= 14:\n",
    "    print(\"중학생\")\n",
    "else:\n",
    "    print(\"초등학생\")"
   ]
  },
  {
   "cell_type": "code",
   "execution_count": 9,
   "id": "be586db4-45e1-4e92-a41b-762ec0e15281",
   "metadata": {},
   "outputs": [
    {
     "data": {
      "text/plain": [
       "False"
      ]
     },
     "execution_count": 9,
     "metadata": {},
     "output_type": "execute_result"
    }
   ],
   "source": [
    "1<=100<10"
   ]
  },
  {
   "cell_type": "code",
   "execution_count": null,
   "id": "97c6a260-421f-4a4f-b45f-dfa502c77385",
   "metadata": {},
   "outputs": [],
   "source": [
    "#for i in list:\n",
    "# for i in ragne(start, end, step) :"
   ]
  },
  {
   "cell_type": "code",
   "execution_count": 10,
   "id": "768eadca-5553-4065-a540-09bd904b6c18",
   "metadata": {},
   "outputs": [
    {
     "name": "stdout",
     "output_type": "stream",
     "text": [
      "10\n",
      "20\n",
      "30\n",
      "40\n",
      "50\n"
     ]
    }
   ],
   "source": [
    "for i in [10, 20, 30, 40, 50]:\n",
    "    print(i)"
   ]
  },
  {
   "cell_type": "code",
   "execution_count": 12,
   "id": "2ec37934-1f67-4098-b2d9-030887006f7d",
   "metadata": {},
   "outputs": [
    {
     "name": "stdout",
     "output_type": "stream",
     "text": [
      "0\n",
      "1\n",
      "2\n",
      "3\n",
      "4\n",
      "5\n",
      "6\n",
      "7\n",
      "8\n",
      "9\n"
     ]
    }
   ],
   "source": [
    "for i in range(10): # range(0, 10, 1)\n",
    "    print(i)"
   ]
  },
  {
   "cell_type": "code",
   "execution_count": 13,
   "id": "4490e197-cfaa-4904-ae99-9ab2b87923cf",
   "metadata": {},
   "outputs": [
    {
     "name": "stdout",
     "output_type": "stream",
     "text": [
      "a\n",
      "b\n",
      "c\n",
      "d\n",
      "e\n",
      "f\n",
      "g\n"
     ]
    }
   ],
   "source": [
    "for i in 'abcdefg':\n",
    "    print(i)"
   ]
  },
  {
   "cell_type": "code",
   "execution_count": 14,
   "id": "344a9bfe-558a-489a-b16a-6a4eab888532",
   "metadata": {},
   "outputs": [
    {
     "name": "stdout",
     "output_type": "stream",
     "text": [
      "r e d \n",
      "g r e n n \n",
      "b l u e \n",
      "p i n k \n",
      "b l a c k \n",
      "w h i t e \n"
     ]
    }
   ],
   "source": [
    "colors=['red','grenn','blue','pink','black','white']\n",
    "for i in colors:\n",
    "    for j in i:\n",
    "        print(j, end=' ')\n",
    "    print()"
   ]
  },
  {
   "cell_type": "code",
   "execution_count": 15,
   "id": "a997be8c-d6ec-4393-9af3-20c001e4298f",
   "metadata": {},
   "outputs": [
    {
     "name": "stdout",
     "output_type": "stream",
     "text": [
      "0 0\n",
      "1 1\n",
      "2 3\n",
      "3 6\n",
      "4 10\n",
      "5 15\n",
      "6 21\n",
      "7 28\n",
      "8 36\n",
      "9 45\n",
      "for end: 10 55\n"
     ]
    }
   ],
   "source": [
    "sum=0\n",
    "for i in range(100):\n",
    "    sum+=i\n",
    "    if(sum>=50):\n",
    "        break\n",
    "    print(i, sum)\n",
    "    \n",
    "print('for end:', i, sum)"
   ]
  },
  {
   "cell_type": "code",
   "execution_count": 16,
   "id": "05d73043-2a64-4d2a-b24a-22cfebf58a5f",
   "metadata": {},
   "outputs": [
    {
     "name": "stdout",
     "output_type": "stream",
     "text": [
      "0\n",
      "1\n",
      "2\n",
      "3\n",
      "4\n",
      "5\n",
      "6\n",
      "7\n",
      "8\n",
      "9\n",
      "end of program\n"
     ]
    }
   ],
   "source": [
    "for i in range(10):\n",
    "    print(i)\n",
    "else:\n",
    "    print('end of program')"
   ]
  },
  {
   "cell_type": "code",
   "execution_count": 19,
   "id": "0db1db7f-60a4-421e-8a41-fae07dc3a99d",
   "metadata": {},
   "outputs": [
    {
     "name": "stdout",
     "output_type": "stream",
     "text": [
      "uoy evol I\n"
     ]
    }
   ],
   "source": [
    "sentence = \"I love you\"\n",
    "reverse_sentence = ''\n",
    "for char in sentence:\n",
    "    reverse_sentence = char + reverse_sentence\n",
    "print(reverse_sentence)"
   ]
  },
  {
   "cell_type": "code",
   "execution_count": 20,
   "id": "c6cabb0a-3c3c-4173-9688-2f43fe12172e",
   "metadata": {},
   "outputs": [
    {
     "name": "stdout",
     "output_type": "stream",
     "text": [
      "[47.0, 74.0, 51.0, 60.0, 90.0]\n"
     ]
    }
   ],
   "source": [
    "kor = [49, 80, 20, 100, 80]\n",
    "math = [43, 60, 85, 30, 90]\n",
    "eng = [49, 82, 48, 50, 100]\n",
    "mid = [kor, math, eng]\n",
    "\n",
    "student = [0, 0, 0, 0, 0]\n",
    "i = 0\n",
    "for subject in mid:\n",
    "    for score in subject:\n",
    "        student[i] += score\n",
    "        i += 1\n",
    "    i = 0\n",
    "else:\n",
    "    a, b, c, d, e = student\n",
    "    student_avg = [a/3, b/3, c/3, d/3, e/3]\n",
    "    print(student_avg)"
   ]
  },
  {
   "cell_type": "code",
   "execution_count": 27,
   "id": "dc03e02a-7972-4760-83bb-7483045a4c70",
   "metadata": {},
   "outputs": [
    {
     "name": "stdout",
     "output_type": "stream",
     "text": [
      "[47.0, 74.0, 51.0, 60.0, 90.0]\n",
      "[5, 2, 4, 3, 1]\n"
     ]
    }
   ],
   "source": [
    "kor = [49, 80, 20, 100, 80]\n",
    "math = [43, 60, 85, 30, 90]\n",
    "eng = [49, 82, 48, 50, 100]\n",
    "mid = [kor, math, eng]\n",
    "\n",
    "student = [0.0, 0.0, 0.0, 0.0, 0.0]\n",
    "\n",
    "for i in range(len(mid)):\n",
    "    for j in range(len(mid[i])):\n",
    "        student[j] += mid[i][j]\n",
    "        \n",
    "a,b,c,d,e = student\n",
    "student = [a/3, b/3, c/3, d/3, e/3]\n",
    "print(student)\n",
    "student_rank=[1, 1, 1, 1, 1]\n",
    "for i in range(len(student)):\n",
    "    for j in range(len(student)):\n",
    "        if student[j] > student[i]:\n",
    "            student_rank[i] += 1\n",
    "            \n",
    "print(student_rank)"
   ]
  }
 ],
 "metadata": {
  "kernelspec": {
   "display_name": "Python 3",
   "language": "python",
   "name": "python3"
  },
  "language_info": {
   "codemirror_mode": {
    "name": "ipython",
    "version": 3
   },
   "file_extension": ".py",
   "mimetype": "text/x-python",
   "name": "python",
   "nbconvert_exporter": "python",
   "pygments_lexer": "ipython3",
   "version": "3.8.8"
  }
 },
 "nbformat": 4,
 "nbformat_minor": 5
}
