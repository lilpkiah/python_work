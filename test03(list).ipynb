{
 "cells": [
  {
   "cell_type": "code",
   "execution_count": 1,
   "id": "386867b7-14ae-4f44-8f36-20c494053d31",
   "metadata": {},
   "outputs": [
    {
     "name": "stdout",
     "output_type": "stream",
     "text": [
      "red\n",
      "green\n",
      "3\n",
      "['red', 'green', 'pink']\n"
     ]
    }
   ],
   "source": [
    "colors=['red','green','blue']\n",
    "print(colors[0])\n",
    "print(colors[1])\n",
    "print(len(colors))\n",
    "colors[2]='pink'\n",
    "print(colors)"
   ]
  },
  {
   "cell_type": "code",
   "execution_count": 2,
   "id": "95d64a22-cc62-48c3-8acb-29a802172e6a",
   "metadata": {},
   "outputs": [
    {
     "name": "stdout",
     "output_type": "stream",
     "text": [
      "['서울', '부산', '인천', '대구', '대전', '광주', '울산', '수원']\n",
      "<class 'list'>\n",
      "8\n"
     ]
    }
   ],
   "source": [
    "cities=['서울', '부산', '인천', '대구', '대전', '광주', '울산', '수원']\n",
    "print(cities)\n",
    "print(type(cities))\n",
    "print(len(cities))"
   ]
  },
  {
   "cell_type": "code",
   "execution_count": 5,
   "id": "bf2d621c-5981-4b89-8fea-9bd9982301c5",
   "metadata": {},
   "outputs": [
    {
     "name": "stdout",
     "output_type": "stream",
     "text": [
      "['부산', '인천', '대구']\n",
      "['서울', '부산', '인천', '대구']\n",
      "대전\n",
      "['대구', '대전', '광주', '울산', '수원']\n",
      "['대구', '대전', '광주', '울산', '수원']\n",
      "['서울', '부산', '인천', '대구', '대전', '광주', '울산', '수원']\n",
      "['서울', '부산', '인천', '대구', '대전', '광주', '울산', '수원']\n",
      "['서울', '부산', '인천', '대구', '대전', '광주', '울산', '수원']\n"
     ]
    }
   ],
   "source": [
    "print(cities[1:4])\n",
    "print(cities[0:4])\n",
    "print(cities[4])\n",
    "print(cities[3:8])\n",
    "print(cities[3:])\n",
    "print(cities[0:8])\n",
    "print(cities[:])\n",
    "print(cities[-10:10])"
   ]
  },
  {
   "cell_type": "code",
   "execution_count": 6,
   "id": "59f83133-bb06-4aa7-a012-88cc46915c87",
   "metadata": {},
   "outputs": [
    {
     "name": "stdout",
     "output_type": "stream",
     "text": [
      "['서울', '부산', '인천', '대구', '대전']\n"
     ]
    }
   ],
   "source": [
    "print(cities[-8:-3])"
   ]
  },
  {
   "cell_type": "code",
   "execution_count": 8,
   "id": "fece63da-a871-4b6c-8056-891f97ebdbb3",
   "metadata": {},
   "outputs": [
    {
     "name": "stdout",
     "output_type": "stream",
     "text": [
      "['서울', '부산', '인천', '대구', '대전', '광주']\n"
     ]
    }
   ],
   "source": [
    "print(cities[:-2])"
   ]
  },
  {
   "cell_type": "code",
   "execution_count": 9,
   "id": "c78a1a51-fe3e-4d3b-99dd-27891cd43f0f",
   "metadata": {},
   "outputs": [
    {
     "name": "stdout",
     "output_type": "stream",
     "text": [
      "['서울', '부산', '인천', '대구', '대전', '광주', '울산']\n"
     ]
    }
   ],
   "source": [
    "print(cities[:-1])"
   ]
  },
  {
   "cell_type": "code",
   "execution_count": 10,
   "id": "d587bf65-90f0-4bd7-90be-c7ed56f614d0",
   "metadata": {},
   "outputs": [
    {
     "name": "stdout",
     "output_type": "stream",
     "text": [
      "gfedcba\n"
     ]
    }
   ],
   "source": [
    "s=\"abcdefg\"\n",
    "print(s[::-1])"
   ]
  },
  {
   "cell_type": "code",
   "execution_count": 11,
   "id": "b6917bbf-f2d8-4a16-a94a-e5a6e9358c46",
   "metadata": {},
   "outputs": [],
   "source": [
    "colors1=['red','green','blue','orange']\n",
    "colors2=['orange','black','white']"
   ]
  },
  {
   "cell_type": "code",
   "execution_count": 12,
   "id": "e31ae306-6b4a-47a3-8f33-23d13a55cece",
   "metadata": {},
   "outputs": [
    {
     "name": "stdout",
     "output_type": "stream",
     "text": [
      "['red', 'green', 'blue', 'orange', 'orange', 'black', 'white']\n",
      "['red', 'green', 'blue', 'orange', 'red', 'green', 'blue', 'orange']\n",
      "True\n",
      "False\n"
     ]
    }
   ],
   "source": [
    "print(colors1+colors2)\n",
    "print(colors1*2)\n",
    "print('blue' in colors1)\n",
    "print('blue' in colors2)"
   ]
  },
  {
   "cell_type": "code",
   "execution_count": 13,
   "id": "a1e3d437-ab41-45c5-8ef4-df6a4ed59c92",
   "metadata": {},
   "outputs": [
    {
     "name": "stdout",
     "output_type": "stream",
     "text": [
      "['red', 'green', 'blue', 'orange', 'white']\n"
     ]
    }
   ],
   "source": [
    "colors1.append('white')\n",
    "print(colors1)"
   ]
  },
  {
   "cell_type": "code",
   "execution_count": 14,
   "id": "216dbdd6-d47c-4dd8-8993-76b5e527e1e5",
   "metadata": {},
   "outputs": [
    {
     "name": "stdout",
     "output_type": "stream",
     "text": [
      "[1]\n",
      "[1, 10]\n"
     ]
    }
   ],
   "source": [
    "number=[]\n",
    "number.append(1)\n",
    "print(number)\n",
    "number.append(10)\n",
    "print(number)"
   ]
  },
  {
   "cell_type": "code",
   "execution_count": 15,
   "id": "625ec875-6e93-406b-a7f1-24ecddd3fbbe",
   "metadata": {},
   "outputs": [
    {
     "name": "stdout",
     "output_type": "stream",
     "text": [
      "[1, 10, 100, 200, 300]\n"
     ]
    }
   ],
   "source": [
    "number2=[100,200,300]\n",
    "number.extend(number2)\n",
    "print(number)"
   ]
  },
  {
   "cell_type": "code",
   "execution_count": 16,
   "id": "2dfae275-ced0-4be6-8c25-effdcbd23730",
   "metadata": {},
   "outputs": [
    {
     "name": "stdout",
     "output_type": "stream",
     "text": [
      "[1, 10, 100, 200, 300, 1000]\n",
      "[1, 500, 10, 100, 200, 300, 1000]\n"
     ]
    }
   ],
   "source": [
    "number.append(1000)\n",
    "print(number)\n",
    "number.insert(1, 500)\n",
    "print(number)"
   ]
  },
  {
   "cell_type": "code",
   "execution_count": 17,
   "id": "b530f311-edf9-4b57-bf3f-b4812e68118f",
   "metadata": {},
   "outputs": [
    {
     "name": "stdout",
     "output_type": "stream",
     "text": [
      "[500, 10, 100, 200, 300, 1000]\n",
      "[10, 100, 200, 300, 1000]\n"
     ]
    }
   ],
   "source": [
    "number.remove(1)\n",
    "print(number)\n",
    "del number[0]\n",
    "print(number)"
   ]
  },
  {
   "cell_type": "code",
   "execution_count": null,
   "id": "53a3e826-9998-4a5f-ba51-3eb95d2e81e2",
   "metadata": {},
   "outputs": [],
   "source": []
  },
  {
   "cell_type": "code",
   "execution_count": null,
   "id": "acc06980-ede3-4be4-8935-96e837d6cd62",
   "metadata": {},
   "outputs": [],
   "source": []
  },
  {
   "cell_type": "code",
   "execution_count": 18,
   "id": "37e7bd7a-b284-4982-b532-71e51e2da076",
   "metadata": {},
   "outputs": [
    {
     "name": "stdout",
     "output_type": "stream",
     "text": [
      "[[40, 50, 85, 95], [50, 60, 80, 90], [60, 65, 75, 85]]\n",
      "75\n"
     ]
    }
   ],
   "source": [
    "kor=[40,50,85,95]\n",
    "math=[50,60,80,90]\n",
    "eng=[60,65,75,85]\n",
    "score=[kor,math,eng]\n",
    "print(score)\n",
    "print(score[2][2])"
   ]
  },
  {
   "cell_type": "code",
   "execution_count": 19,
   "id": "30d1c60d-c384-4ba9-b91f-609e4f53f597",
   "metadata": {},
   "outputs": [
    {
     "name": "stdout",
     "output_type": "stream",
     "text": [
      "[[40, 50, 85, 95], [55, 60, 80, 90], [60, 65, 75, 85]]\n"
     ]
    }
   ],
   "source": [
    "math[0]=55\n",
    "print(score)"
   ]
  },
  {
   "cell_type": "code",
   "execution_count": 20,
   "id": "cd44d8ec-e5ca-412f-bc77-88adff299176",
   "metadata": {},
   "outputs": [
    {
     "name": "stdout",
     "output_type": "stream",
     "text": [
      "[[40, 50, 85, 95], [55, 60, 80, 90], [60, 65, 75, 85]]\n"
     ]
    }
   ],
   "source": [
    "kor[3]=95\n",
    "print(score)"
   ]
  },
  {
   "cell_type": "code",
   "execution_count": 21,
   "id": "cb3ed83d-fec6-43d4-b9b6-7cc38d0f2564",
   "metadata": {},
   "outputs": [
    {
     "name": "stdout",
     "output_type": "stream",
     "text": [
      "True\n",
      "False\n"
     ]
    }
   ],
   "source": [
    "a=300\n",
    "b=300\n",
    "print(a==b)\n",
    "print(a is b)"
   ]
  },
  {
   "cell_type": "code",
   "execution_count": 22,
   "id": "140b31f0-cd50-48c8-a2ed-38634aa2283f",
   "metadata": {},
   "outputs": [
    {
     "name": "stdout",
     "output_type": "stream",
     "text": [
      "True\n",
      "True\n"
     ]
    }
   ],
   "source": [
    "a=5\n",
    "b=5\n",
    "print(a==b)\n",
    "print(a is b)"
   ]
  }
 ],
 "metadata": {
  "kernelspec": {
   "display_name": "Python 3",
   "language": "python",
   "name": "python3"
  },
  "language_info": {
   "codemirror_mode": {
    "name": "ipython",
    "version": 3
   },
   "file_extension": ".py",
   "mimetype": "text/x-python",
   "name": "python",
   "nbconvert_exporter": "python",
   "pygments_lexer": "ipython3",
   "version": "3.8.8"
  }
 },
 "nbformat": 4,
 "nbformat_minor": 5
}
