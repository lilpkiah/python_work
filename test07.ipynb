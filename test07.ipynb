{
 "cells": [
  {
   "cell_type": "code",
   "execution_count": 1,
   "id": "2db61e61-2671-4d8c-a206-2ca192d6b68c",
   "metadata": {},
   "outputs": [
    {
     "name": "stdout",
     "output_type": "stream",
     "text": [
      "red blue green yellow \n"
     ]
    }
   ],
   "source": [
    "colors=['red','blue','green','yellow']\n",
    "result=''\n",
    "for s in colors:\n",
    "    result+=s+\" \"\n",
    "print(result)"
   ]
  },
  {
   "cell_type": "code",
   "execution_count": 2,
   "id": "8ca5f5cb-5748-4296-acb4-cd537715a47d",
   "metadata": {},
   "outputs": [
    {
     "name": "stdout",
     "output_type": "stream",
     "text": [
      "red,blue,green,yellow\n"
     ]
    }
   ],
   "source": [
    "result1=','.join(colors)\n",
    "print(result1)"
   ]
  },
  {
   "cell_type": "code",
   "execution_count": 3,
   "id": "bf096e50-145b-4b66-86b7-33d21b532502",
   "metadata": {},
   "outputs": [
    {
     "name": "stdout",
     "output_type": "stream",
     "text": [
      "['zero', 'one', 'two', 'three']\n"
     ]
    }
   ],
   "source": [
    "items=\"zero one two three\".split()\n",
    "print(items)"
   ]
  },
  {
   "cell_type": "code",
   "execution_count": 4,
   "id": "f1e387fa-33b4-49d5-8481-683a7cc159e7",
   "metadata": {},
   "outputs": [
    {
     "name": "stdout",
     "output_type": "stream",
     "text": [
      "['a', 'b', 'c', 'd', 'e', 'f', 'g']\n"
     ]
    }
   ],
   "source": [
    "a=[]\n",
    "for i in 'abcdefg':\n",
    "    a.append(i)\n",
    "print(a)"
   ]
  },
  {
   "cell_type": "code",
   "execution_count": 5,
   "id": "ce869faa-f71d-4d5d-b4c4-8b4ce022bf6c",
   "metadata": {},
   "outputs": [
    {
     "name": "stdout",
     "output_type": "stream",
     "text": [
      "['a', 'b', 'c', 'd', 'e', 'f', 'g']\n"
     ]
    }
   ],
   "source": [
    "a1=[i for i in 'abcdefg']\n",
    "print(a1)"
   ]
  },
  {
   "cell_type": "code",
   "execution_count": 6,
   "id": "df1b1e65-2b3d-479e-a0fd-1e29aa577518",
   "metadata": {},
   "outputs": [
    {
     "name": "stdout",
     "output_type": "stream",
     "text": [
      "[2, 4, 6, 8]\n"
     ]
    }
   ],
   "source": [
    "a2=[]\n",
    "for i in range(1, 10):\n",
    "    if i % 2 == 0:\n",
    "        a2.append(i)\n",
    "print(a2)"
   ]
  },
  {
   "cell_type": "code",
   "execution_count": 7,
   "id": "16a65379-b45c-4692-a986-251b0e948ce5",
   "metadata": {},
   "outputs": [
    {
     "name": "stdout",
     "output_type": "stream",
     "text": [
      "[2, 4, 6, 8]\n"
     ]
    }
   ],
   "source": [
    "a3=[i for i in range(1, 10) if i % 2 == 0]\n",
    "print(a3)"
   ]
  },
  {
   "cell_type": "code",
   "execution_count": 8,
   "id": "ea52440a-468f-4b6c-adf1-63f5e65e2f12",
   "metadata": {},
   "outputs": [
    {
     "name": "stdout",
     "output_type": "stream",
     "text": [
      "[10, 2, 30, 4, 50, 6, 70, 8, 90]\n"
     ]
    }
   ],
   "source": [
    "a4=[]\n",
    "for i in range(1, 10):\n",
    "    if i%2==0:\n",
    "        a4.append(i)\n",
    "    else:\n",
    "        a4.append(i*10)\n",
    "print(a4)"
   ]
  },
  {
   "cell_type": "code",
   "execution_count": 9,
   "id": "9a48c9c1-6801-439b-8955-cc4e23169fde",
   "metadata": {},
   "outputs": [
    {
     "name": "stdout",
     "output_type": "stream",
     "text": [
      "[10, 2, 30, 4, 50, 6, 70, 8, 90]\n"
     ]
    }
   ],
   "source": [
    "a5=[i if i%2==0 else i*10 for i in range(1, 10)]\n",
    "print(a5)"
   ]
  },
  {
   "cell_type": "code",
   "execution_count": 11,
   "id": "3168b3fa-cced-4e0a-a567-17478d1d3f38",
   "metadata": {},
   "outputs": [
    {
     "name": "stdout",
     "output_type": "stream",
     "text": [
      "['HW', 'Ho', 'Hr', 'Hl', 'Hd', 'eW', 'eo', 'er', 'el', 'ed', 'lW', 'lo', 'lr', 'll', 'ld', 'lW', 'lo', 'lr', 'll', 'ld', 'oW', 'oo', 'or', 'ol', 'od']\n"
     ]
    }
   ],
   "source": [
    "word1='Hello'\n",
    "word2='World'\n",
    "result=[]\n",
    "for i in word1:\n",
    "    for j in word2:\n",
    "        result.append(i+j)\n",
    "print(result)"
   ]
  },
  {
   "cell_type": "code",
   "execution_count": 12,
   "id": "2065adea-8f50-420c-9cab-f67eb393db7a",
   "metadata": {},
   "outputs": [
    {
     "name": "stdout",
     "output_type": "stream",
     "text": [
      "['HW', 'Ho', 'Hr', 'Hl', 'Hd', 'eW', 'eo', 'er', 'el', 'ed', 'lW', 'lo', 'lr', 'll', 'ld', 'lW', 'lo', 'lr', 'll', 'ld', 'oW', 'oo', 'or', 'ol', 'od']\n"
     ]
    }
   ],
   "source": [
    "result1=[i+j for i in word1 for j in word2]\n",
    "print(result1)"
   ]
  },
  {
   "cell_type": "code",
   "execution_count": 13,
   "id": "df807769-a862-4ba2-8b96-be8a9d75e1c1",
   "metadata": {},
   "outputs": [
    {
     "name": "stdout",
     "output_type": "stream",
     "text": [
      "['AD', 'AE', 'BD', 'BE', 'BA', 'CD', 'CE', 'CA']\n"
     ]
    }
   ],
   "source": [
    "s1=['A','B','C']\n",
    "s2=['D','E','A']\n",
    "result=[]\n",
    "for i in s1:\n",
    "    for j in s2:\n",
    "        if i!=j:\n",
    "            result.append(i+j)\n",
    "print(result)"
   ]
  },
  {
   "cell_type": "code",
   "execution_count": 14,
   "id": "03e7934e-e0cc-4a78-86b3-08357192265e",
   "metadata": {},
   "outputs": [
    {
     "name": "stdout",
     "output_type": "stream",
     "text": [
      "['DA', 'EA', 'DA', 'EA', 'DA', 'EA']\n"
     ]
    }
   ],
   "source": [
    "result=[i+j for i in s1 for i in s2 if i!=j]\n",
    "print(result)"
   ]
  },
  {
   "cell_type": "code",
   "execution_count": 15,
   "id": "c45a2962-74b2-4964-877e-4d6ee5eaf301",
   "metadata": {},
   "outputs": [
    {
     "data": {
      "text/plain": [
       "['The', 'quick', 'brown', 'fox', 'jumps', 'over', 'the', 'lazy', 'dog']"
      ]
     },
     "execution_count": 15,
     "metadata": {},
     "output_type": "execute_result"
    }
   ],
   "source": [
    "words='The quick brown fox jumps over the lazy dog'.split()\n",
    "words"
   ]
  },
  {
   "cell_type": "code",
   "execution_count": 16,
   "id": "999447a4-537d-4eab-bdcc-3bbe21cdfba7",
   "metadata": {},
   "outputs": [
    {
     "name": "stdout",
     "output_type": "stream",
     "text": [
      "[['THE', 'the', 3], ['QUICK', 'quick', 5], ['BROWN', 'brown', 5], ['FOX', 'fox', 3], ['JUMPS', 'jumps', 5], ['OVER', 'over', 4], ['THE', 'the', 3], ['LAZY', 'lazy', 4], ['DOG', 'dog', 3]]\n"
     ]
    }
   ],
   "source": [
    "word_list_2d=[[w.upper(), w.lower(), len(w)] for w in words]\n",
    "print(word_list_2d)"
   ]
  },
  {
   "cell_type": "code",
   "execution_count": 17,
   "id": "6aac4656-d128-4319-8cab-490eaedb844b",
   "metadata": {},
   "outputs": [
    {
     "name": "stdout",
     "output_type": "stream",
     "text": [
      "['A', 'B', 'C'] ['D', 'E', 'A']\n"
     ]
    }
   ],
   "source": [
    "print(s1, s2)"
   ]
  },
  {
   "cell_type": "code",
   "execution_count": 18,
   "id": "03125cef-a333-4270-9bc1-f847043fabb8",
   "metadata": {},
   "outputs": [
    {
     "name": "stdout",
     "output_type": "stream",
     "text": [
      "[['AD', 'AE', 'AA'], ['BD', 'BE', 'BA'], ['CD', 'CE', 'CA']]\n"
     ]
    }
   ],
   "source": [
    "result=[[i+j for j in s2] for i in s1]\n",
    "print(result)"
   ]
  },
  {
   "cell_type": "code",
   "execution_count": 20,
   "id": "d15774ab-408d-4af0-8e5e-76dda312e0d4",
   "metadata": {},
   "outputs": [
    {
     "name": "stdout",
     "output_type": "stream",
     "text": [
      "(1, 10)\n",
      "(2, 20)\n",
      "(3, 30)\n"
     ]
    }
   ],
   "source": [
    "alist=[1,2,3]\n",
    "blist=[10,20,30]\n",
    "clist=zip(alist, blist)\n",
    "for i in clist:\n",
    "    print(i)"
   ]
  },
  {
   "cell_type": "code",
   "execution_count": 22,
   "id": "996055e2-43e3-4663-bb35-54fa90e9264b",
   "metadata": {},
   "outputs": [
    {
     "name": "stdout",
     "output_type": "stream",
     "text": [
      "(10, 30, 30) 70 23.333333333333332\n",
      "(20, 20, 34) 74 24.666666666666668\n",
      "(30, 26, 44) 100 33.333333333333336\n",
      "(40, 40, 55) 135 45.0\n",
      "(30, 45, 50) 125 41.666666666666664\n"
     ]
    }
   ],
   "source": [
    "kor=[10,20,30,40,30]\n",
    "math=[30,20,26,40,45]\n",
    "eng=[30,34,44,55,50]\n",
    "zip_score=zip(kor,math,eng)\n",
    "for i in zip_score:\n",
    "    print(i, sum(i), sum(i)/3)"
   ]
  },
  {
   "cell_type": "code",
   "execution_count": 24,
   "id": "cb226930-a547-4eff-a5fe-df862f0c1a5a",
   "metadata": {},
   "outputs": [],
   "source": [
    "def f1(x,y):\n",
    "    return x+y"
   ]
  },
  {
   "cell_type": "code",
   "execution_count": 25,
   "id": "be59315c-a486-4f92-ba5c-ae48c064e999",
   "metadata": {},
   "outputs": [
    {
     "name": "stdout",
     "output_type": "stream",
     "text": [
      "3\n"
     ]
    }
   ],
   "source": [
    "print(f1(1,2))"
   ]
  },
  {
   "cell_type": "code",
   "execution_count": 26,
   "id": "eec16d33-efa5-4d7a-92b7-163f63b7621d",
   "metadata": {},
   "outputs": [
    {
     "name": "stdout",
     "output_type": "stream",
     "text": [
      "3\n"
     ]
    }
   ],
   "source": [
    "f2=lambda x,y:x+y\n",
    "print(f2(1,2))"
   ]
  },
  {
   "cell_type": "code",
   "execution_count": 29,
   "id": "52e22fef-e512-4b97-ad00-a7a95696c75f",
   "metadata": {},
   "outputs": [
    {
     "name": "stdout",
     "output_type": "stream",
     "text": [
      "3\n"
     ]
    }
   ],
   "source": [
    "print((lambda x,y:x+y)(1,2))"
   ]
  },
  {
   "cell_type": "code",
   "execution_count": 30,
   "id": "a4be0935-bdc1-4438-971f-6147aefb2e15",
   "metadata": {},
   "outputs": [
    {
     "name": "stdout",
     "output_type": "stream",
     "text": [
      "9\n"
     ]
    }
   ],
   "source": [
    "print((lambda x: x**2)(3))"
   ]
  },
  {
   "cell_type": "code",
   "execution_count": 31,
   "id": "0f230663-9007-4240-847c-1e72360e4ca5",
   "metadata": {},
   "outputs": [
    {
     "name": "stdout",
     "output_type": "stream",
     "text": [
      "5.0\n"
     ]
    }
   ],
   "source": [
    "print((lambda x,y:x/y)(10,2))"
   ]
  }
 ],
 "metadata": {
  "kernelspec": {
   "display_name": "Python 3",
   "language": "python",
   "name": "python3"
  },
  "language_info": {
   "codemirror_mode": {
    "name": "ipython",
    "version": 3
   },
   "file_extension": ".py",
   "mimetype": "text/x-python",
   "name": "python",
   "nbconvert_exporter": "python",
   "pygments_lexer": "ipython3",
   "version": "3.8.8"
  }
 },
 "nbformat": 4,
 "nbformat_minor": 5
}
