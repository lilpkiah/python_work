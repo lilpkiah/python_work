{
 "cells": [
  {
   "cell_type": "code",
   "execution_count": 1,
   "id": "5b235948-e817-41f9-978a-4f02826cfadf",
   "metadata": {},
   "outputs": [],
   "source": [
    "from selenium import webdriver\n",
    "import time"
   ]
  },
  {
   "cell_type": "code",
   "execution_count": 3,
   "id": "d232ad11-ed9e-4165-9e00-099db2813b30",
   "metadata": {
    "collapsed": true,
    "jupyter": {
     "outputs_hidden": true
    },
    "tags": []
   },
   "outputs": [
    {
     "name": "stderr",
     "output_type": "stream",
     "text": [
      "<ipython-input-3-501c6b624c7c>:6: DeprecationWarning: find_elements_by_* commands are deprecated. Please use find_elements() instead\n",
      "  readLinks=driver.find_elements_by_css_selector(\"#infoset_reviewContentList div.reviewInfoBot.crop > a\")\n",
      "<ipython-input-3-501c6b624c7c>:11: DeprecationWarning: find_elements_by_* commands are deprecated. Please use find_elements() instead\n",
      "  review_list=driver.find_elements_by_css_selector(\"#infoset_reviewContentList div.reviewInfoBot.origin > div.review_cont\")\n"
     ]
    },
    {
     "name": "stdout",
     "output_type": "stream",
     "text": [
      "['박응용님의 <Do it! 점프 투 파이썬> 리뷰입니다.\\n파이썬을 처음 접하면서 베스트셀러에 있는 책을 구매하게되었는데요. \\n설명이 굉장히 쉽게 되어있고 온라인 강의도 포함되어 있는 것 같아서 좋았습니다. \\n온라인 강의는 들어보진 않았지만 책으로도 충분히 이해가 되어 만족스러웠습니다.!!!\\n개념을 확실히 이해하기 좋은 책인 것 같도 다른 시리즈들은 실습하기 좋은 것 같더라고요 ~~ \\n ', '정말 파이썬의 기본적인 문법을 알기에 좋아요\\n또한 다른 언어랑도 비교 및 객체에 대해서 잘 설명해주고\\n  언어가 어떻게 돌아가는지 등에 대해서도 잘 알려주기 때문에 언어의 입문으로는 정말 좋다고 생각합니다.\\n기본적인 언어에 대해서는 정말 잘 설명되어있고 그외에 간단한 응용은 잘 설명이 되어있습니다.\\n  하지만 심화 과정은 그리 깊게 들어있지않아 이 책 하나로 끝내기는 어렵습니다.\\n  다만 심화과정은 따로 책을 구비하셔야 합니다.\\n ', '모든 입문서가 이 책은 초보라도 할 수 있다고 말하지만 이 책은 정말로 초보도 할 수 있을 정도로 상세하고 친절하게 처음부터 알려준다. 개인적으로 이 책으로 파이썬 공부를 시작하게 되어서 정말 다행이라고 생각하는데, 입문서랍시고 본 책이 어려우면 그 내용 자체에 거부감을 느끼기 마련인데 이 책을 보니 파이썬에 대해 더 공부하고 싶어졌다.\\n파이썬 초보라면, 코딩 초보라면 점프투파이썬 완전 추천!\\n1. 지쳤다면 잠시 책을 접고 휴식을 취하자\\n2. p.67', '2학기 전공필수 과목 중 파이썬으로 프로그래밍을 해야 한다는 내용을 알게 되어 프로그래밍 입문을 위한 도서를 검색하던 중 이 책을 알게 되었습니다. 그리고 여러 책을 비교해보던 중 이 책을 구매하였는데, 이 책을 구매한 가장 큰 이유는 스터디 노트 라는 시스템을 통해 책을 완독할 수 있게 해주었기 때문입니다. 그리고 스터디 노트를 쓰는 공부단 활동을 하면서 책의 내용들을 하나씩 배우다 보니 어느새 파이썬의 기본적인 내용들을 큰 부담 없이 숙지할 수 있게 되었습니다. 다양한 예시와 연습문제를 통해 단순히 문법만을 알려주는 것이 아닌, 파이썬에 있는 여러 가지 부분들의 존재 이유 및 실제 사용방법을 알게 되어 향후 전공 및 프로그래밍에 큰 도움이 될 것 같습니다.\\n1. 좋은 글귀, 마음에 드는 가사 인상 깊은 영화 대사 등을 메모해 주세요.\\n2. 출처를 넣어주세요. ex) 234page, 4번 트랙<사랑해>, <브리짓존스의 다이어리>에서 브리짓의 대사', ' 그동안 전공 공부를 하면서 Java 위주로 프로그래밍 공부를 했는데 파이썬도 공부해두면 나중에 도움이 될 것 같아서 파이썬 책을 찾아봤다. 천천히 공부해 볼 생각으로 찾다가 Do it! 시리즈 중에 파이썬 입문서가 있어서 골랐다. 책의 분량은 356페이지로 조금 얇은 편이라 적당해 보였다. 내용은 크게 첫째 마당과 둘째 마당으로 나눠서 구성되어 있고 총 7장에 걸쳐서 파이썬 프로그래밍에 대해 소개한다. 그리고 각 장마다 연습문제가 있고 끝에 파이썬 초보 탈출 코딩 면허시험 20제와 연습문제 및 코딩 면허시험의 풀이가 있다.\\n   먼저 첫째 마당은 파이썬 기본 문법 익히기로 01장부터 05장까지 파이썬의 기본 문법을 다룬다. 01장 파이썬이란 무엇인가?에서는 파이썬에 대해 간단하게 소개하고 프로그래밍 실습을 위한 파이썬의 개발환경을 설정하는 방법을 설명한다. 02장은 파이썬 프로그래밍의 기초, 자료형으로 파이썬에서 사용하는 자료형에 대해 소개한다. 파이썬에는 다양한 자료형이 있는데 다른 프로그래밍 언어들의 기본 자료형과 비슷한 숫자형 자료형, 문자열 자료형, bool 자료형 그리고 다른 언어에서 배열과 유사한 List 자료형, 파이썬에만 존재하는 Tuple 자료형, Dictionary 자료형과 집합 자료형을 소개한다.\\n   이어서 03장 프로그램의 구조를 쌓는다! 제어문에서는 파이썬의 조건문과 반복문을 다룬다. 파이썬의 제어문은 다른 프로그래밍 언어들과 거의 같다. 그래서 조건문으로 if문, 반복문으로 while문과 for문을 설명한다. 04장 프로그램의 입력과 출력은 어떻게 해야 할까?에서는 파이썬으로 프로그램의 입출력을 위한 문법을 다룬다. 함수의 정의와 사용법부터 시작해 사용자의 입출력을 위한 내장함수들 그리고 파일과 관련된 입출력 내장함수까지 설명한다. 05장은 파이썬 날개 달기로 파이썬의 객체지향과 관련된 문법을 다룬다. 객체지향에서 중요한 Class와 객체의 개념을 설명하고 이어서 Module과 Package로 점점 범위를 넓혀가며 소개한다. 그리고 예외처리와 내장함수, 파이썬 Library를 알아본다.\\n   다음으로 둘째 마당은 파이썬 실력 키우기로 앞서 공부한 파이썬 기본 문법을 바탕으로 06장과 07장에 걸쳐 기초적인 프로그래밍을 실습해 보는 것을 다룬다. 06장은 파이썬 프로그래밍, 어떻게 시작해야 할까?에서는 앞으로 본격적인 프로그래밍을 할 때 도움이 될 수 있는 기초적인 프로그래밍을 몇 개의 예제로 실습해본다. 07장은 정규 표현식으로 정규 표현식의 정의부터 메타 문자의 종류들을 소개하고 정규 표현식의 사용을 위한 re Module을 소개한다.\\n   파이썬을 1학년 때 교양필수 과목으로 공부해본 적이 있긴 한데 이 때는 객체지향개념 전까지 기초부분만 다뤄서 끝까지 다 배웠다고 하기에는 애매했다. 그래서 다시 처음부터 공부한다는 생각으로 이 책을 골랐는데 파이썬 문법에 대해 처음부터 난이도를 깊게 들어가지 않고 그림과 예시 코드를 같이 보여주면서 설명을 쉽고 자세하게 해주니 금방 이해가 되었다. 또한 저자의 동영상 강의도 같이 소개되어 있어서 독학하는 사람들에게 도움이 될 것 같다. 그리고 각 장마다 너무 어렵지 않게 적당한 난이도의 연습문제와 마지막에 코딩 면허시험 문제까지 있기 때문에 혼자 코딩 실습해보면서 문제를 풀어보는데 충분한 것 같다.']\n"
     ]
    },
    {
     "name": "stderr",
     "output_type": "stream",
     "text": [
      "<ipython-input-3-501c6b624c7c>:24: DeprecationWarning: find_elements_by_* commands are deprecated. Please use find_elements() instead\n",
      "  linkNum=driver.find_elements_by_css_selector(linkurl)\n"
     ]
    },
    {
     "ename": "AttributeError",
     "evalue": "'list' object has no attribute 'click'",
     "output_type": "error",
     "traceback": [
      "\u001b[1;31m---------------------------------------------------------------------------\u001b[0m",
      "\u001b[1;31mAttributeError\u001b[0m                            Traceback (most recent call last)",
      "\u001b[1;32m<ipython-input-3-501c6b624c7c>\u001b[0m in \u001b[0;36m<module>\u001b[1;34m\u001b[0m\n\u001b[0;32m     23\u001b[0m         \u001b[0mlinkurl\u001b[0m\u001b[1;33m=\u001b[0m\u001b[1;34m'#infoset_reviewContentList > div.review_sort.sortBot > div.review_sortLft > div > a:nth-child('\u001b[0m\u001b[1;33m+\u001b[0m\u001b[0mstr\u001b[0m\u001b[1;33m(\u001b[0m\u001b[0mn\u001b[0m\u001b[1;33m)\u001b[0m\u001b[1;33m+\u001b[0m\u001b[1;34m')'\u001b[0m\u001b[1;33m\u001b[0m\u001b[1;33m\u001b[0m\u001b[0m\n\u001b[0;32m     24\u001b[0m         \u001b[0mlinkNum\u001b[0m\u001b[1;33m=\u001b[0m\u001b[0mdriver\u001b[0m\u001b[1;33m.\u001b[0m\u001b[0mfind_elements_by_css_selector\u001b[0m\u001b[1;33m(\u001b[0m\u001b[0mlinkurl\u001b[0m\u001b[1;33m)\u001b[0m\u001b[1;33m\u001b[0m\u001b[1;33m\u001b[0m\u001b[0m\n\u001b[1;32m---> 25\u001b[1;33m         \u001b[0mlinkNum\u001b[0m\u001b[1;33m.\u001b[0m\u001b[0mclick\u001b[0m\u001b[1;33m(\u001b[0m\u001b[1;33m)\u001b[0m\u001b[1;33m\u001b[0m\u001b[1;33m\u001b[0m\u001b[0m\n\u001b[0m\u001b[0;32m     26\u001b[0m         \u001b[0mtime\u001b[0m\u001b[1;33m.\u001b[0m\u001b[0msleep\u001b[0m\u001b[1;33m(\u001b[0m\u001b[1;33m)\u001b[0m\u001b[1;33m\u001b[0m\u001b[1;33m\u001b[0m\u001b[0m\n\u001b[0;32m     27\u001b[0m         \u001b[0mreadLinks\u001b[0m\u001b[1;33m=\u001b[0m\u001b[0mdriver\u001b[0m\u001b[1;33m.\u001b[0m\u001b[0mfind_elements_by_css_selector\u001b[0m\u001b[1;33m(\u001b[0m\u001b[1;34m'#infoset_reviewContentList div.reviewInfoBot.crop > a'\u001b[0m\u001b[1;33m)\u001b[0m\u001b[1;33m\u001b[0m\u001b[1;33m\u001b[0m\u001b[0m\n",
      "\u001b[1;31mAttributeError\u001b[0m: 'list' object has no attribute 'click'"
     ]
    }
   ],
   "source": [
    "driver=webdriver.Chrome('chromedriver')\n",
    "driver.implicitly_wait(3)\n",
    "driver.get('http://www.yes24.com/Product/Goods/74419916')\n",
    "time.sleep(2)\n",
    "\n",
    "readLinks=driver.find_elements_by_css_selector(\"#infoset_reviewContentList div.reviewInfoBot.crop > a\")\n",
    "for readLink in readLinks:\n",
    "    readLink.click()\n",
    "    time.sleep(1)\n",
    "    \n",
    "review_list=driver.find_elements_by_css_selector(\"#infoset_reviewContentList div.reviewInfoBot.origin > div.review_cont\")\n",
    "temp_list=[]\n",
    "time.sleep(2)\n",
    "\n",
    "for review in review_list:\n",
    "    temp_list.append(review.text)\n",
    "print(temp_list)\n",
    "\n",
    "stopFlag=False\n",
    "\n",
    "while True:\n",
    "    for n in range(4, 13):\n",
    "        linkurl='#infoset_reviewContentList > div.review_sort.sortBot > div.review_sortLft > div > a:nth-child('+str(n)+')'\n",
    "        linkNum=driver.find_elements_by_css_selector(linkurl)\n",
    "        linkNum.click()\n",
    "        time.sleep(2b)\n",
    "        readLinks=driver.find_elements_by_css_selector('#infoset_reviewContentList div.reviewInfoBot.crop > a')\n",
    "        for readLink in readLinks:\n",
    "            readLink.click()\n",
    "            time.sleep(1)\n",
    "            \n",
    "        review_list=driver.find_elements_by_css_selector('#infoset_reviewContentList div.reviewInfoBot.origin > div.review_cont')\n",
    "        time.sleep(2)\n",
    "        for review in review_list:\n",
    "            temp_list.append(review.text)\n",
    "            \n",
    "        if len(review_list)<5:\n",
    "            stopFlag=True\n",
    "            break\n",
    "            \n",
    "    if stopFlag==True:\n",
    "        break\n",
    "    \n",
    "    nextBlock='#infoset_reviewContentList > div.review_sort.sortBot > div.review_sortLft > div > a.bgYUI.next'\n",
    "    linkNext=driver.find_element_by_css_selector(nextBlock)\n",
    "    linkNext.click()\n",
    "    time.sleep(1)"
   ]
  },
  {
   "cell_type": "code",
   "execution_count": null,
   "id": "171185a3-903b-4f6b-b5e9-080bb2445eb3",
   "metadata": {},
   "outputs": [],
   "source": []
  }
 ],
 "metadata": {
  "kernelspec": {
   "display_name": "Python 3",
   "language": "python",
   "name": "python3"
  },
  "language_info": {
   "codemirror_mode": {
    "name": "ipython",
    "version": 3
   },
   "file_extension": ".py",
   "mimetype": "text/x-python",
   "name": "python",
   "nbconvert_exporter": "python",
   "pygments_lexer": "ipython3",
   "version": "3.8.8"
  }
 },
 "nbformat": 4,
 "nbformat_minor": 5
}
