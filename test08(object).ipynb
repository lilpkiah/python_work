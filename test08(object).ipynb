{
 "cells": [
  {
   "cell_type": "code",
   "execution_count": 1,
   "id": "dc95f844-f10b-467a-ba13-2d1b56493fc3",
   "metadata": {},
   "outputs": [],
   "source": [
    "class SoccerPlayer(object):\n",
    "    def __init__(self, name, position, back_number):\n",
    "        self.name=name\n",
    "        self.position=position\n",
    "        self.back_number=back_number\n",
    "    \n",
    "    def change_back_number(self, new_number):\n",
    "        print(\"선수의 등번호를 변경합니다:From %d to %d\"%(self.back_number, new_number))\n",
    "        self.back_number=new_number\n",
    "        \n",
    "    def __str__(self):\n",
    "        return \"My name is %s. I play in %s, back_number %d\"%(self.name, self.position, self.back_number)"
   ]
  },
  {
   "cell_type": "code",
   "execution_count": 2,
   "id": "09b1ac34-51ac-411d-b40b-aef4ab464848",
   "metadata": {},
   "outputs": [
    {
     "name": "stdout",
     "output_type": "stream",
     "text": [
      "My name is 손흥민. I play in MF, back_number 10\n",
      "선수의 등번호를 변경합니다:From 10 to 20\n",
      "My name is 손흥민. I play in MF, back_number 20\n"
     ]
    }
   ],
   "source": [
    "son=SoccerPlayer('손흥민', 'MF',10)\n",
    "print(son)\n",
    "son.change_back_number(20)\n",
    "print(son)"
   ]
  },
  {
   "cell_type": "code",
   "execution_count": 3,
   "id": "97b7490b-2e03-46ca-9ad8-7b0a6972766b",
   "metadata": {},
   "outputs": [],
   "source": [
    "class Student(object):\n",
    "    def __init__(self, sno, name, major):\n",
    "        self.__sno=sno # __ private\n",
    "        self.__name=name\n",
    "        self.__major=major\n",
    "        \n",
    "    def change_major(self, new_major):\n",
    "        print(\"전공을 %s에서 %s로 변경\"%(self.__major, new_major))\n",
    "        self.major=new_major\n",
    "        \n",
    "    def __str__(self):\n",
    "        return \"학번:{}, 이름:{}, 전공:{}\".format(self.__sno, self.__name, self.__major)"
   ]
  },
  {
   "cell_type": "code",
   "execution_count": 4,
   "id": "cf5eb565-6ffc-4da4-a940-c15ab9e7e06b",
   "metadata": {},
   "outputs": [
    {
     "name": "stdout",
     "output_type": "stream",
     "text": [
      "학번:1, 이름:홍길동, 전공:컴공\n",
      "전공을 컴공에서 빅데이터 분석로 변경\n",
      "학번:1, 이름:홍길동, 전공:빅데이터 분석\n"
     ]
    }
   ],
   "source": [
    "s1=Student(1,'홍길동','컴공')\n",
    "print(s1)\n",
    "s1.change_major('빅데이터 분석')\n",
    "print(s1)"
   ]
  },
  {
   "cell_type": "code",
   "execution_count": 5,
   "id": "0f173011-7fd5-40dd-82a2-a1b2103b9a73",
   "metadata": {},
   "outputs": [
    {
     "name": "stdout",
     "output_type": "stream",
     "text": [
      "홍길동\n",
      "1\n",
      "빅데이터 분석\n"
     ]
    }
   ],
   "source": [
    "print(s1.name)\n",
    "print(s1.sno)\n",
    "print(s1.major)"
   ]
  },
  {
   "cell_type": "code",
   "execution_count": 8,
   "id": "cf9ab502-680a-42a9-8ce5-602aab53bfe9",
   "metadata": {},
   "outputs": [],
   "source": [
    "class Person(object):\n",
    "    def __init__(self, name, age, gender):\n",
    "        self.name=name\n",
    "        self.age=age\n",
    "        self.gender=gender\n",
    "        \n",
    "    def about_me(self):\n",
    "        print(\"이름:\",self.name,\"나이:\",self.age, \"성별:\",self.gender,end=\" \")"
   ]
  },
  {
   "cell_type": "code",
   "execution_count": 9,
   "id": "146c0596-dc15-4c38-9ea6-57e5f742d48b",
   "metadata": {},
   "outputs": [
    {
     "name": "stdout",
     "output_type": "stream",
     "text": [
      "이름: 홍길동 나이: 20 성별: 남자 "
     ]
    }
   ],
   "source": [
    "p1 = Person('홍길동',20, '남자')\n",
    "p1.about_me()"
   ]
  },
  {
   "cell_type": "code",
   "execution_count": 10,
   "id": "139ea380-e8bb-41f0-b8cd-06ee53b5f47d",
   "metadata": {},
   "outputs": [],
   "source": [
    "class Employee(Person):\n",
    "    def __init__(self, name, age, gender, salary, hire_date):\n",
    "        super().__init__(name, age, gender)\n",
    "        self.salary=salary\n",
    "        self.hire_date=hire_date\n",
    "    \n",
    "    def do_work(self):\n",
    "        print(\"열심히 일한다.\")\n",
    "        \n",
    "    def about_me(self):\n",
    "        super().about_me()\n",
    "        print(\"급여:\",self.salary,\"입사일:\",self.hire_date)"
   ]
  },
  {
   "cell_type": "code",
   "execution_count": 11,
   "id": "aca5048c-be01-4c4e-b398-b9be7ef0b9a5",
   "metadata": {},
   "outputs": [
    {
     "name": "stdout",
     "output_type": "stream",
     "text": [
      "이름: 홍길수 나이: 30 성별: 남자 급여: 500 입사일: 2019-01-03\n"
     ]
    }
   ],
   "source": [
    "e1=Employee(\"홍길수\",30,\"남자\",500,\"2019-01-03\")\n",
    "e1.about_me()"
   ]
  },
  {
   "cell_type": "code",
   "execution_count": 14,
   "id": "543f7cfb-afbd-4cae-a39c-293c568ab5f8",
   "metadata": {},
   "outputs": [],
   "source": [
    "class Student(Person):\n",
    "    def __init__(self, name, age, gender, sno, major):\n",
    "        super().__init__(name, age, gender)\n",
    "        self.sno=sno\n",
    "        self.major=major\n",
    "        \n",
    "    def about_me(self):\n",
    "        super().about_me()\n",
    "        print(\"학번:\",self.sno,\"전공:\",self.major)\n",
    "        \n",
    "    def __str__(self):\n",
    "        return \"학번:{}, 이름:{}, 나이:{}, 성별:{}, 전공:{}\".format(self.sno, self.name, self.age, self.gender, self.major)\n",
    "    \n",
    "    def change_major(self, new_major):\n",
    "        print(\"전공 : %s 에서 전공 : %s 로 변경\"%(self.major, new_major))\n",
    "        self.major=new_major\n"
   ]
  },
  {
   "cell_type": "code",
   "execution_count": 16,
   "id": "941ba84d-2155-40ed-a16b-cc7278ef2c09",
   "metadata": {},
   "outputs": [
    {
     "name": "stdout",
     "output_type": "stream",
     "text": [
      "이름: 홍길동 나이: 20 성별: 남자 학번: 1 전공: 컴공\n",
      "학번:1, 이름:홍길동, 나이:20, 성별:남자, 전공:컴공\n",
      "전공 : 컴공 에서 전공 : 빅데이터 로 변경\n"
     ]
    }
   ],
   "source": [
    "s1=Student(\"홍길동\", 20, \"남자\", 1, \"컴공\")\n",
    "s1.about_me()\n",
    "print(s1)\n",
    "s1.change_major(\"빅데이터\")"
   ]
  }
 ],
 "metadata": {
  "kernelspec": {
   "display_name": "Python 3",
   "language": "python",
   "name": "python3"
  },
  "language_info": {
   "codemirror_mode": {
    "name": "ipython",
    "version": 3
   },
   "file_extension": ".py",
   "mimetype": "text/x-python",
   "name": "python",
   "nbconvert_exporter": "python",
   "pygments_lexer": "ipython3",
   "version": "3.8.8"
  }
 },
 "nbformat": 4,
 "nbformat_minor": 5
}
