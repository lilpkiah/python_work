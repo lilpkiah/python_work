{
 "cells": [
  {
   "cell_type": "code",
   "execution_count": 1,
   "id": "bc10036d-dd1e-4bdc-a8b3-3cd3a7406da2",
   "metadata": {},
   "outputs": [],
   "source": [
    "import requests"
   ]
  },
  {
   "cell_type": "code",
   "execution_count": 2,
   "id": "f6d4d1a0-b65e-4251-b0a0-385fc67dca24",
   "metadata": {},
   "outputs": [
    {
     "name": "stdout",
     "output_type": "stream",
     "text": [
      "<class 'requests.models.Response'>\n",
      "<!DOCTYPE html>\n",
      "<html>\n",
      "<head>\n",
      "<meta charset=\"UTF-8\">\n",
      "<title>í",
      "ì¤í¸</title>\n",
      "</head>\n",
      "<body>\n",
      "<h1>ì¹ í¬ë¡¤ë§ì í",
      "ì¤í¸ í©ëë¤.</h1>\n",
      "</body>\n",
      "</html>\n"
     ]
    }
   ],
   "source": [
    "res=requests.request('get','http://unico2013.dothome.co.kr/crawling/exam.html')\n",
    "print(type(res))\n",
    "print(res.text)"
   ]
  },
  {
   "cell_type": "code",
   "execution_count": 3,
   "id": "3a5a6dba-402c-4b52-b075-1ac79fe5d39a",
   "metadata": {},
   "outputs": [
    {
     "name": "stdout",
     "output_type": "stream",
     "text": [
      "<class 'requests.models.Response'>\n",
      "\n"
     ]
    }
   ],
   "source": [
    "res=requests.request('head','http://unico2013.dothome.co.kr/crawling/exam.html')\n",
    "res.encoding='utf-8'\n",
    "print(type(res))\n",
    "print(res.text)"
   ]
  },
  {
   "cell_type": "code",
   "execution_count": 10,
   "id": "d1911168-e05e-4245-8b98-add6490dfc33",
   "metadata": {},
   "outputs": [
    {
     "name": "stdout",
     "output_type": "stream",
     "text": [
      "<class 'requests.models.Response'>\n",
      "﻿<!DOCTYPE html>\n",
      "<html>\n",
      "  <head>\n",
      "    <meta charset=\"utf-8\">\n",
      "    <title>POST TEST</title>\n",
      "  </head>\n",
      "  <body>\n",
      "   <h1>POST : 이름은 홍길동이고 나이는 20이네요!!</h1>   </body>\n",
      "</html>\n"
     ]
    }
   ],
   "source": [
    "data1={'name':'홍길동','age':20}\n",
    "res=requests.post('http://unico2013.dothome.co.kr/crawling/post.php',data=data1)\n",
    "res.encoding='utf-8'\n",
    "print(type(res))\n",
    "print(res.text)"
   ]
  },
  {
   "cell_type": "code",
   "execution_count": 9,
   "id": "96507263-2839-4710-8250-e912ce7444e0",
   "metadata": {},
   "outputs": [
    {
     "name": "stdout",
     "output_type": "stream",
     "text": [
      "﻿<!DOCTYPE html>\n",
      "<html>  \n",
      "  <head>    \n",
      "   <meta charset=\"utf-8\">    \n",
      "   <title>TEST</title>  \n",
      "  </head>  \n",
      "  <body>   \n",
      "    <h1 style='color : red'>카테고리 : 역사</h1>\n",
      "    <h2 style='color : blue'>페이지 : 25</h2>   \n",
      "  </body>\n",
      "</html>\n"
     ]
    }
   ],
   "source": [
    "from urllib.request import urlopen\n",
    "from urllib.parse import urlencode\n",
    "\n",
    "params=urlencode({'category':'역사','page':25})\n",
    "#url=\"http://unico2013.dothome.co.kr/crawling/exercise.php\"\n",
    "#res=requests.get(url,params)\n",
    "#res.encoding='utf-8'\n",
    "#print(res.text)\n",
    "url=\"http://unico2013.dothome.co.kr/crawling/exercise.php?%s\"%params\n",
    "res=urlopen(url)\n",
    "print(res.read().decode('utf-8'))"
   ]
  }
 ],
 "metadata": {
  "kernelspec": {
   "display_name": "Python 3",
   "language": "python",
   "name": "python3"
  },
  "language_info": {
   "codemirror_mode": {
    "name": "ipython",
    "version": 3
   },
   "file_extension": ".py",
   "mimetype": "text/x-python",
   "name": "python",
   "nbconvert_exporter": "python",
   "pygments_lexer": "ipython3",
   "version": "3.8.8"
  }
 },
 "nbformat": 4,
 "nbformat_minor": 5
}
