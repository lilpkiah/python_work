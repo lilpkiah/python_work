{
 "cells": [
  {
   "cell_type": "code",
   "execution_count": 10,
   "id": "3360bee4-494b-4d74-a291-4556e48b61d2",
   "metadata": {},
   "outputs": [],
   "source": [
    "from bs4 import BeautifulSoup as bs\n",
    "import urllib.request as req"
   ]
  },
  {
   "cell_type": "code",
   "execution_count": 11,
   "id": "93a926e3-422a-4bd1-98fb-d5e105787525",
   "metadata": {},
   "outputs": [
    {
     "data": {
      "text/plain": [
       "('busRouteInfo.xml', <http.client.HTTPMessage at 0x1887881e970>)"
      ]
     },
     "execution_count": 11,
     "metadata": {},
     "output_type": "execute_result"
    }
   ],
   "source": [
    "busNum='360'\n",
    "key='NFP1J1M7avhhS2zLfbZmLqOTIx0%2FDzYTSCmW5alvbAhdTF7OP0EFAC0n6Dz12r5OPdgq1ft4u8ItmTDcGBRHcw%3D%3D'\n",
    "url=\"http://ws.bus.go.kr/api/rest/busRouteInfo/getBusRouteList?serviceKey=\"+key+\"&strSrch=\"+busNum\n",
    "savename='busRouteInfo.xml'\n",
    "req.urlretrieve(url, savename)"
   ]
  },
  {
   "cell_type": "code",
   "execution_count": 12,
   "id": "b7d27c78-c45d-4ab0-a91e-0316f1670970",
   "metadata": {},
   "outputs": [
    {
     "name": "stdout",
     "output_type": "stream",
     "text": [
      "100100057\n"
     ]
    }
   ],
   "source": [
    "xml=open(savename, 'r', encoding='utf-8').read()\n",
    "soup=bs(xml,'xml')\n",
    "busRouteId=None\n",
    "\n",
    "for itemList in soup.find_all('itemList'):\n",
    "    busRouteId=itemList.find('busRouteId').string\n",
    "    busRouteNm=itemList.find('busRouteNm').string\n",
    "    if busRouteNm==busNum:\n",
    "        break\n",
    "        \n",
    "print(busRouteId)"
   ]
  },
  {
   "cell_type": "code",
   "execution_count": 13,
   "id": "8d59097f-9de4-4c02-a15e-a0faca5413d6",
   "metadata": {},
   "outputs": [
    {
     "data": {
      "text/plain": [
       "('buspos.xml', <http.client.HTTPMessage at 0x1887877bf70>)"
      ]
     },
     "execution_count": 13,
     "metadata": {},
     "output_type": "execute_result"
    }
   ],
   "source": [
    "url2=\"http://ws.bus.go.kr/api/rest/buspos/getBusPosByRtid?serviceKey=\"+key+\"&busRouteId\"+busRouteId\n",
    "savename=\"buspos.xml\"\n",
    "req.urlretrieve(url2,savename)"
   ]
  },
  {
   "cell_type": "code",
   "execution_count": 14,
   "id": "d74cd34f-7ac5-4a06-b613-4dbe9f8f90d3",
   "metadata": {},
   "outputs": [],
   "source": [
    "xml=open(savename,'r',encoding='utf-8').read()\n",
    "soup=bs(xml,'xml')\n",
    "busPos=[]\n",
    "\n",
    "for itemList in soup.find_all('itemList'):\n",
    "    gpsY=itemList.find('gpsY').string\n",
    "    gpsX=itemList.find('gpsX').string\n",
    "    busPos.append(tuple(gpsY, gpsX))"
   ]
  },
  {
   "cell_type": "code",
   "execution_count": 15,
   "id": "23d66247-2c21-48d3-91f6-09cf48adaa71",
   "metadata": {},
   "outputs": [
    {
     "name": "stdout",
     "output_type": "stream",
     "text": [
      "[360번 버스의 운행 위치]\n",
      "현재 운행중인 360번 버스가 없어요.\n"
     ]
    }
   ],
   "source": [
    "print(\"[\"+busNum+\"번 버스의 운행 위치]\")\n",
    "\n",
    "if len(busPos) != 0:\n",
    "    for lat, lng in busPos:\n",
    "        print(lat,lng)\n",
    "else:\n",
    "    print(\"현재 운행중인 \" + busNum + \"번 버스가 없어요.\")"
   ]
  },
  {
   "cell_type": "code",
   "execution_count": null,
   "id": "8f018256-a228-4d77-b037-6df0554504dd",
   "metadata": {},
   "outputs": [],
   "source": [
    "import os\n",
    "import sys\n",
    "import urllib.request\n",
    "import datetime\n",
    "import time\n",
    "import json\n",
    "from config impor *\n",
    "import matplotlib.pyplot as plt\n",
    "import matplotlib\n",
    "from matplotlib import font_manager, rc\n",
    "\n",
    "def get_request_url(url):\n",
    "    req = urllib.request.Request(url)\n",
    "    \n",
    "    try:\n",
    "        response = urllib.request.urlopen(req)\n",
    "        if response.getcode() == 200:\n",
    "            print (\"[%s] Url Request Success\" % datetime.datetime.now())\n",
    "            return response.read().decode('utf-8')\n",
    "    except Exception as e:\n",
    "        print(e)\n",
    "        print(\"[%s] Error for URL : %s\" % (datetime.datetime.now(), url))\n",
    "        return None\n"
   ]
  },
  {
   "cell_type": "code",
   "execution_count": null,
   "id": "7964669c-a6f1-4940-ba6b-606bec170313",
   "metadata": {},
   "outputs": [],
   "source": [
    "def getNatVisitor(yyyymm, nat_cd, ed_cd):\n",
    "    access_key=\"\"\n",
    "    end_point= \"http://openapi.tour.go.kr/openapi/service/EdrcntTourismStatsService/getEdrcntTourismStatsList\"\n",
    "    \n",
    "    parameters = \"?_type=json&serviceKey=\" + access_key\n",
    "    parameters += \"&YM=\" yyyymm\n",
    "    parameters += \"&NAT_CD=\" + nat_cd\n",
    "    parameter += \"&ED_CD=\" + ed_cd\n",
    "    \n",
    "    url = end_point + parameters\n",
    "    \n",
    "    retDate = get_request_url(url)\n",
    "    \n",
    "    if(retData == None):\n",
    "        return None\n",
    "    else:\n",
    "        return json.loads(retData)"
   ]
  },
  {
   "cell_type": "code",
   "execution_count": null,
   "id": "ba444f9e-46bf-48ef-84a8-b87a532e8e05",
   "metadata": {},
   "outputs": [],
   "source": [
    "def main():\n",
    "    jsonResult = []\n",
    "    national_code = \"275\"\n",
    "    ed_cd=\"E\"\n",
    "    \n",
    "    nStartYear = 2011\n",
    "    nEndYear = 2020\n",
    "    \n",
    "    for year in range(nStartYear, nEndYear):\n",
    "        for month in range(1, 13):\n",
    "            yyyymm = \"{0}{1:0>2}\".format(str(year), str(month))\n",
    "            jsonData = getNatVisitor(yyyymm, national_code, ed_cd)\n",
    "            \n",
    "            print(json.dumps(jsonData, indent=4, sort_keys=True, ensure_ascii=False))\n",
    "            \n",
    "            if(jsonData['response']['header']['resultMsg'] == 'OK'):\n",
    "                krName = jsonData['response']['body']['items']['item']['natKorNm']\n",
    "                krName = krName.replace(' ','')\n",
    "                iTotalVisit = json"
   ]
  }
 ],
 "metadata": {
  "kernelspec": {
   "display_name": "Python 3",
   "language": "python",
   "name": "python3"
  },
  "language_info": {
   "codemirror_mode": {
    "name": "ipython",
    "version": 3
   },
   "file_extension": ".py",
   "mimetype": "text/x-python",
   "name": "python",
   "nbconvert_exporter": "python",
   "pygments_lexer": "ipython3",
   "version": "3.8.8"
  }
 },
 "nbformat": 4,
 "nbformat_minor": 5
}
