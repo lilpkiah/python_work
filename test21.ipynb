{
 "cells": [
  {
   "cell_type": "code",
   "execution_count": 2,
   "id": "d1d64b08-0a29-4c06-a777-f18cdbfbd195",
   "metadata": {},
   "outputs": [
    {
     "name": "stdout",
     "output_type": "stream",
     "text": [
      "캡처 저장 완료\n"
     ]
    }
   ],
   "source": [
    "from selenium import webdriver\n",
    "\n",
    "driver=webdriver.Chrome('chromedriver')\n",
    "driver.get(\"http://www.python.org/\")\n",
    "driver.implicitly_wait(3)\n",
    "driver.get_screenshot_as_file('C:/Users/samsung/nyy/python_work/python_main.png')\n",
    "print('캡처 저장 완료')\n",
    "\n",
    "import time\n",
    "time.sleep(2)\n",
    "driver.quit()"
   ]
  },
  {
   "cell_type": "code",
   "execution_count": 4,
   "id": "0acf6a91-4a9a-4a74-901c-da6cfe206349",
   "metadata": {},
   "outputs": [
    {
     "name": "stderr",
     "output_type": "stream",
     "text": [
      "<ipython-input-4-c6624c2a2525>:5: DeprecationWarning: executable_path has been deprecated, please pass in a Service object\n",
      "  driver = webdriver.Chrome('C:/Users/samsung/nyy/python_work/chromedriver', options=options)\n"
     ]
    },
    {
     "name": "stdout",
     "output_type": "stream",
     "text": [
      "캡처 저장 완료\n"
     ]
    }
   ],
   "source": [
    "options = webdriver.ChromeOptions()\n",
    "options.add_argument('headless')\n",
    "options.add_argument('window-size=1920x1080')\n",
    "\n",
    "driver = webdriver.Chrome('C:/Users/samsung/nyy/python_work/chromedriver', options=options)\n",
    "driver.implicitly_wait(3)\n",
    "driver.get_screenshot_as_file('C:/Users/samsung/nyy/python_work/main_main_headless.png')\n",
    "print('캡처 저장 완료')\n",
    "\n",
    "time.sleep(2)\n",
    "driver.quit()"
   ]
  }
 ],
 "metadata": {
  "kernelspec": {
   "display_name": "Python 3",
   "language": "python",
   "name": "python3"
  },
  "language_info": {
   "codemirror_mode": {
    "name": "ipython",
    "version": 3
   },
   "file_extension": ".py",
   "mimetype": "text/x-python",
   "name": "python",
   "nbconvert_exporter": "python",
   "pygments_lexer": "ipython3",
   "version": "3.8.8"
  }
 },
 "nbformat": 4,
 "nbformat_minor": 5
}
