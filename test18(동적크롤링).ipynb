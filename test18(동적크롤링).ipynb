{
 "cells": [
  {
   "cell_type": "code",
   "execution_count": 5,
   "id": "50c9caf7-4d0d-4f23-8411-635c651cdcbf",
   "metadata": {},
   "outputs": [],
   "source": [
    "from selenium import webdriver\n",
    "from selenium.webdriver.common.keys import Keys"
   ]
  },
  {
   "cell_type": "code",
   "execution_count": 7,
   "id": "563768a8-94a0-4922-8ab6-97ddded87d31",
   "metadata": {},
   "outputs": [
    {
     "name": "stdout",
     "output_type": "stream",
     "text": [
      "WebDriver <class 'selenium.webdriver.chrome.webdriver.WebDriver'>\n"
     ]
    },
    {
     "name": "stderr",
     "output_type": "stream",
     "text": [
      "<ipython-input-7-3a51dde9bc20>:6: DeprecationWarning: find_element_by_* commands are deprecated. Please use find_element() instead\n",
      "  target=driver.find_element_by_css_selector(\"[name='q']\")\n"
     ]
    },
    {
     "name": "stdout",
     "output_type": "stream",
     "text": [
      "찾아온 태그 객체 <class 'selenium.webdriver.remote.webelement.WebElement'>\n"
     ]
    }
   ],
   "source": [
    "driver=webdriver.Chrome(\"chromedriver\")\n",
    "print(\"WebDriver\", type(driver))\n",
    "\n",
    "driver.get(\"http://www.google.com\")\n",
    "driver.implicitly_wait(3)\n",
    "target=driver.find_element_by_css_selector(\"[name='q']\")\n",
    "print(\"찾아온 태그 객체\", type(target))\n",
    "target.send_keys(\"파이썬\")\n",
    "target.send_keys(Keys.ENTER)\n",
    "#driver.quit()"
   ]
  },
  {
   "cell_type": "code",
   "execution_count": 8,
   "id": "66c91566-6797-41ec-bcc9-4f34cb48649f",
   "metadata": {},
   "outputs": [],
   "source": [
    "driver.get(\"http://www.naver.com\")"
   ]
  },
  {
   "cell_type": "code",
   "execution_count": 9,
   "id": "0420f753-2bbe-4966-9eb5-8f21a833bc75",
   "metadata": {},
   "outputs": [
    {
     "name": "stderr",
     "output_type": "stream",
     "text": [
      "<ipython-input-9-6980d02809ca>:1: DeprecationWarning: find_element_by_* commands are deprecated. Please use find_element() instead\n",
      "  target=driver.find_element_by_id(\"query\")\n"
     ]
    }
   ],
   "source": [
    "target=driver.find_element_by_css_selector(\"[name=query]\")\n",
    "target.send_keys(\"파이썬\")\n",
    "target.send_keys(Keys.ENTER)"
   ]
  },
  {
   "cell_type": "code",
   "execution_count": 11,
   "id": "6b71328f-a8bf-4a29-8f03-d19321316410",
   "metadata": {},
   "outputs": [
    {
     "name": "stdout",
     "output_type": "stream",
     "text": [
      "[]\n"
     ]
    }
   ],
   "source": [
    "import urllib.request as req\n",
    "from bs4 import BeautifulSoup as bs\n",
    "res=req.urlopen('https://www.starbucks.co.kr/store/store_map.do')\n",
    "res=res.read().decode()\n",
    "soup=bs(res,'html.parser')\n",
    "\n",
    "li=soup.find_all('li',class_='quickResultLstCon')\n",
    "print(li)"
   ]
  },
  {
   "cell_type": "code",
   "execution_count": 15,
   "id": "e577305c-ec31-4fb5-a546-c815c7316717",
   "metadata": {},
   "outputs": [
    {
     "name": "stderr",
     "output_type": "stream",
     "text": [
      "<ipython-input-15-2224d0e9b8cd>:7: DeprecationWarning: find_elements_by_* commands are deprecated. Please use find_elements() instead\n",
      "  targets=driver.find_elements_by_class_name('quickResultLstCon')\n"
     ]
    },
    {
     "name": "stdout",
     "output_type": "stream",
     "text": [
      "신세계마린시티\n",
      "부산광역시 해운대구 마린시티2로 38 (우동)\n",
      "1522-3232\n",
      "리저브 매장 2번\n",
      "제니스스퀘어\n",
      "부산광역시 해운대구 마린시티2로 33, 제니스스퀘어 (우동)\n",
      "1522-3232\n",
      "리저브 매장 2번\n",
      "베네시티\n",
      "부산광역시 해운대구 해운대해변로 163 (우동)\n",
      "1522-3232\n",
      "리저브 매장 2번\n",
      "\n",
      "\n",
      "\n",
      "\n",
      "\n",
      "\n",
      "\n"
     ]
    }
   ],
   "source": [
    "driver=webdriver.Chrome('chromedriver')\n",
    "driver.implicitly_wait(3)\n",
    "driver.get(\"https://www.starbucks.co.kr/store/store_map.do\")\n",
    "#target=driver.find_element_by_class_name('quickResultLstCon')\n",
    "#print(target)\n",
    "#print(target.text)\n",
    "targets=driver.find_elements_by_class_name('quickResultLstCon')\n",
    "for target in targets:\n",
    "    print(target.text)"
   ]
  },
  {
   "cell_type": "code",
   "execution_count": 16,
   "id": "300d3392-ef70-4c41-bb8f-1cc86eaadbd1",
   "metadata": {},
   "outputs": [],
   "source": [
    "driver=webdriver.Chrome('chromedriver')\n",
    "driver.implicitly_wait(3)\n",
    "driver.get('https://nid.naver.com/nidlogin.login')\n",
    "driver.find_element_by_id('id').send_keys('')\n",
    "driver.find_element_by_id('pw').send_keys('')\n",
    "driver.find_element_by_id('log.login').click"
   ]
  },
  {
   "cell_type": "code",
   "execution_count": null,
   "id": "3fa45d43-5028-4e8e-8bbe-173e3cfa5eba",
   "metadata": {},
   "outputs": [],
   "source": [
    "driver.get('https://order.pay.naver.com/home')\n",
    "html = driver.page_source\n",
    "soup = BeautifulSoup(html, 'html.parser')\n",
    "notices = soup.select('div.goods_item > div > a > p')\n",
    "\n",
    "for n in notices:\n",
    "    print(n.text.strip())"
   ]
  }
 ],
 "metadata": {
  "kernelspec": {
   "display_name": "Python 3",
   "language": "python",
   "name": "python3"
  },
  "language_info": {
   "codemirror_mode": {
    "name": "ipython",
    "version": 3
   },
   "file_extension": ".py",
   "mimetype": "text/x-python",
   "name": "python",
   "nbconvert_exporter": "python",
   "pygments_lexer": "ipython3",
   "version": "3.8.8"
  }
 },
 "nbformat": 4,
 "nbformat_minor": 5
}
