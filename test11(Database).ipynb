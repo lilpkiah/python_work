{
 "cells": [
  {
   "cell_type": "code",
   "execution_count": 2,
   "id": "1a932707-9fc5-46a7-a841-87dffa1d8155",
   "metadata": {},
   "outputs": [
    {
     "name": "stdout",
     "output_type": "stream",
     "text": [
      "2.6.0\n",
      "3.35.4\n"
     ]
    }
   ],
   "source": [
    "import sqlite3\n",
    "print(sqlite3.version)\n",
    "print(sqlite3.sqlite_version)"
   ]
  },
  {
   "cell_type": "code",
   "execution_count": 3,
   "id": "f4736eb6-763d-4adc-9155-62c84347de55",
   "metadata": {},
   "outputs": [],
   "source": [
    "def create_table():\n",
    "    conn = sqlite3.connect('my_book.db')\n",
    "    cursor = conn.cursor()\n",
    "    sql = \"\"\"create table if not exists books(\n",
    "    title text,\n",
    "    published_date text,\n",
    "    publisher text,\n",
    "    pages integer\n",
    "    )\"\"\"\n",
    "    cursor.execute(sql)\n",
    "    conn.commit()\n",
    "    conn.close()\n",
    "create_table()"
   ]
  },
  {
   "cell_type": "code",
   "execution_count": 17,
   "id": "0e3712a8-00d6-41ff-a732-072db2b7b8ca",
   "metadata": {},
   "outputs": [],
   "source": [
    "def insert_books(data):\n",
    "    conn = sqlite3.connect('my_book.db')\n",
    "    cursor = conn.cursor()\n",
    "    #sql=\"insert into books values('java', '2021-01-12', '길벗', 500)\"\n",
    "    sql=\"insert into books values(?, ?, ?, ?)\"\n",
    "    cursor.execute(sql, data)\n",
    "    conn.commit()\n",
    "    conn.close()"
   ]
  },
  {
   "cell_type": "code",
   "execution_count": 18,
   "id": "79bfd445-f604-4dab-bd62-5700711f6227",
   "metadata": {},
   "outputs": [],
   "source": [
    "data=('python','2011-01-12','한빛',450)\n",
    "insert_books(data)"
   ]
  },
  {
   "cell_type": "code",
   "execution_count": 22,
   "id": "18ce4fd4-6ff8-4b39-a602-ddb3ec7121c8",
   "metadata": {},
   "outputs": [],
   "source": [
    "def insert_many_books(data):\n",
    "    conn = sqlite3.connect('my_book.db')\n",
    "    cursor = conn.cursor()\n",
    "    #sql=\"insert into books values('java', '2021-01-12', '길벗', 500)\"\n",
    "    sql=\"insert into books values(?, ?, ?, ?)\"\n",
    "    cursor.executemany(sql, data)\n",
    "    conn.commit()\n",
    "    conn.close()"
   ]
  },
  {
   "cell_type": "code",
   "execution_count": 23,
   "id": "9b2f43a0-45ec-40b1-b867-bce68fb8d7bc",
   "metadata": {},
   "outputs": [],
   "source": [
    "items=[('빅데이터','2021-05-05','영진',550),('안드로이드','2022-01-01','한빛',600)]\n",
    "insert_many_books(items)"
   ]
  },
  {
   "cell_type": "code",
   "execution_count": 11,
   "id": "73bdec7f-a69b-4e70-8b4d-44decf340cb6",
   "metadata": {},
   "outputs": [],
   "source": [
    "def all_books():\n",
    "    conn = sqlite3.connect('my_book.db')\n",
    "    cursor = conn.cursor()\n",
    "    sql = \"select * from books\"\n",
    "    cursor = conn.cursor()\n",
    "    cursor.execute(sql)\n",
    "    books = cursor.fetchall()\n",
    "    print(books)\n",
    "    print(type(books))\n",
    "    for book in books:\n",
    "        print(book)\n",
    "    conn.close()"
   ]
  },
  {
   "cell_type": "code",
   "execution_count": 24,
   "id": "353c43ff-83d6-49bb-9810-53ac4a11444f",
   "metadata": {},
   "outputs": [
    {
     "name": "stdout",
     "output_type": "stream",
     "text": [
      "[('java', '2021-01-12', '길벗', 500), ('python', '2011-01-12', '한빛', 450), ('빅데이터', '2021-05-05', '영진', 550), ('안드로이드', '2022-01-01', '한빛', 600)]\n",
      "<class 'list'>\n",
      "('java', '2021-01-12', '길벗', 500)\n",
      "('python', '2011-01-12', '한빛', 450)\n",
      "('빅데이터', '2021-05-05', '영진', 550)\n",
      "('안드로이드', '2022-01-01', '한빛', 600)\n"
     ]
    }
   ],
   "source": [
    "all_books()"
   ]
  },
  {
   "cell_type": "code",
   "execution_count": 25,
   "id": "15d20a30-eec8-4f71-a665-8ecf7b0c6408",
   "metadata": {},
   "outputs": [],
   "source": [
    "def some_books(number):\n",
    "    conn = sqlite3.connect('my_book.db')\n",
    "    cursor=conn.cursor()\n",
    "    sql=\"select * from books\"\n",
    "    cursor = cursor.execute(sql)\n",
    "    books=cursor.fetchmany(number)\n",
    "    for book in books:\n",
    "        print(book)\n",
    "    conn.close()"
   ]
  },
  {
   "cell_type": "code",
   "execution_count": 26,
   "id": "57015a62-aad5-43ac-a5aa-a56aec4d3a8c",
   "metadata": {},
   "outputs": [
    {
     "name": "stdout",
     "output_type": "stream",
     "text": [
      "('java', '2021-01-12', '길벗', 500)\n",
      "('python', '2011-01-12', '한빛', 450)\n",
      "('빅데이터', '2021-05-05', '영진', 550)\n"
     ]
    }
   ],
   "source": [
    "some_books(3)"
   ]
  },
  {
   "cell_type": "code",
   "execution_count": 27,
   "id": "7041d4ad-1e56-47ae-ae97-079967c776d8",
   "metadata": {},
   "outputs": [],
   "source": [
    "def one_books():\n",
    "    conn = sqlite3.connect('my_book.db')\n",
    "    cursor=conn.cursor()\n",
    "    sql=\"select * from books\"\n",
    "    cursor = cursor.execute(sql)\n",
    "    books=cursor.fetchone()\n",
    "    for book in books:\n",
    "        print(book)\n",
    "    conn.close()"
   ]
  },
  {
   "cell_type": "code",
   "execution_count": 28,
   "id": "08ff23e2-20cb-4ca9-8108-53108f7a6ac2",
   "metadata": {},
   "outputs": [
    {
     "name": "stdout",
     "output_type": "stream",
     "text": [
      "java\n",
      "2021-01-12\n",
      "길벗\n",
      "500\n"
     ]
    }
   ],
   "source": [
    "one_books()"
   ]
  },
  {
   "cell_type": "code",
   "execution_count": 29,
   "id": "21256580-9f2d-415d-82cc-3b7731b52a40",
   "metadata": {},
   "outputs": [],
   "source": [
    "def select_books():\n",
    "    conn = sqlite3.connect('my_book.db')\n",
    "    cursor=conn.cursor()\n",
    "    sql=\"select * from books where pages>500 order by title desc\"\n",
    "    cursor = cursor.execute(sql)\n",
    "    books=cursor.fetchall()\n",
    "    for book in books:\n",
    "        print(book)\n",
    "    conn.close()"
   ]
  },
  {
   "cell_type": "code",
   "execution_count": 30,
   "id": "4403ecd4-7050-406b-8d72-04c08edf7e55",
   "metadata": {},
   "outputs": [
    {
     "name": "stdout",
     "output_type": "stream",
     "text": [
      "('안드로이드', '2022-01-01', '한빛', 600)\n",
      "('빅데이터', '2021-05-05', '영진', 550)\n"
     ]
    }
   ],
   "source": [
    "select_books()"
   ]
  },
  {
   "cell_type": "code",
   "execution_count": 36,
   "id": "40a25170-692e-4133-99b4-13b8470d4a25",
   "metadata": {},
   "outputs": [],
   "source": [
    "def update_books(datas):\n",
    "    conn = sqlite3.connect('my_book.db')\n",
    "    cursor = conn.cursor()\n",
    "    sql='update books set pages=? where title=?'\n",
    "    cursor.executemany(sql,datas)\n",
    "    conn.commit()\n",
    "    conn.close()"
   ]
  },
  {
   "cell_type": "code",
   "execution_count": 37,
   "id": "628497a4-d7ab-4f3a-b659-70cefe250a64",
   "metadata": {},
   "outputs": [
    {
     "name": "stdout",
     "output_type": "stream",
     "text": [
      "[('java', '2021-01-12', '길벗', 400), ('python', '2011-01-12', '한빛', 450), ('빅데이터', '2021-05-05', '영진', 550), ('안드로이드', '2022-01-01', '한빛', 550)]\n",
      "<class 'list'>\n",
      "('java', '2021-01-12', '길벗', 400)\n",
      "('python', '2011-01-12', '한빛', 450)\n",
      "('빅데이터', '2021-05-05', '영진', 550)\n",
      "('안드로이드', '2022-01-01', '한빛', 550)\n"
     ]
    }
   ],
   "source": [
    "datas=[(400,'java'),(550,'안드로이드')]\n",
    "update_books(datas)\n",
    "all_books()"
   ]
  },
  {
   "cell_type": "code",
   "execution_count": 38,
   "id": "2f55c78a-df07-4b17-8f16-70d45ec629d0",
   "metadata": {},
   "outputs": [],
   "source": [
    "def delete_books():\n",
    "    conn=sqlite3.connect('my_book.db')\n",
    "    cursor=conn.cursor()\n",
    "    sql=\"delete from books where title='java'\"\n",
    "    cursor.execute(sql)\n",
    "    conn.commit()\n",
    "    conn.close()"
   ]
  },
  {
   "cell_type": "code",
   "execution_count": 39,
   "id": "c8fa3042-e67b-4f88-b424-e6c23c17740e",
   "metadata": {},
   "outputs": [],
   "source": [
    "delete_books()"
   ]
  },
  {
   "cell_type": "code",
   "execution_count": 40,
   "id": "1234f0bd-5bd9-45e9-8760-73503478e147",
   "metadata": {},
   "outputs": [
    {
     "name": "stdout",
     "output_type": "stream",
     "text": [
      "[('python', '2011-01-12', '한빛', 450), ('빅데이터', '2021-05-05', '영진', 550), ('안드로이드', '2022-01-01', '한빛', 550)]\n",
      "<class 'list'>\n",
      "('python', '2011-01-12', '한빛', 450)\n",
      "('빅데이터', '2021-05-05', '영진', 550)\n",
      "('안드로이드', '2022-01-01', '한빛', 550)\n"
     ]
    }
   ],
   "source": [
    "all_books()"
   ]
  },
  {
   "cell_type": "code",
   "execution_count": 31,
   "id": "1caa44e5-6310-4b76-aa2c-dd4f118a87d8",
   "metadata": {
    "tags": []
   },
   "outputs": [],
   "source": [
    "import cx_Oracle"
   ]
  },
  {
   "cell_type": "code",
   "execution_count": 46,
   "id": "79df2bca-256d-4d71-b26f-03c8a35dbe33",
   "metadata": {},
   "outputs": [],
   "source": [
    "def all_product():\n",
    "    conn=cx_Oracle.connect(\"nyy/1234@localhost:1521/xe\")\n",
    "    cursor=conn.cursor()\n",
    "    sql=\"select * from product\"\n",
    "    cursor.execute(sql)\n",
    "    #product=cursor.fetchall()\n",
    "    for row in cursor:\n",
    "        description=row[3].read()\n",
    "        data=list(row)\n",
    "        data[3]=description\n",
    "        #print(row)\n",
    "        print(data)\n",
    "    conn.close()"
   ]
  },
  {
   "cell_type": "code",
   "execution_count": 47,
   "id": "4a180d9b-f8cb-4dd7-b46c-b2a3d18808d4",
   "metadata": {},
   "outputs": [
    {
     "name": "stdout",
     "output_type": "stream",
     "text": [
      "[1, '레몬', 1500, '레몬에 포함된 구현산은 피로회복에 좋습니다.', 'lemon.jpg']\n"
     ]
    }
   ],
   "source": [
    "all_product()"
   ]
  },
  {
   "cell_type": "code",
   "execution_count": 50,
   "id": "79189260-4195-405d-ba82-d7aef7a3f379",
   "metadata": {},
   "outputs": [],
   "source": [
    "def insert_one_product(data):\n",
    "    conn=cx_Oracle.connect(\"nyy/1234@localhost:1521/xe\")\n",
    "    cursor=conn.cursor()\n",
    "    sql=\"insert into product values(:1, :2, :3, :4, :5)\"\n",
    "    cursor.execute(sql, data)\n",
    "    conn.commit()\n",
    "    conn.close()"
   ]
  },
  {
   "cell_type": "code",
   "execution_count": 51,
   "id": "64b8eb14-1a11-4320-a988-1776cad3217f",
   "metadata": {},
   "outputs": [],
   "source": [
    "data=(2,'오렌지',5000,'비타민 C가 풍부합니다. 생과일 주스로 마시면 좋습니다','orange.jpg')\n",
    "insert_one_product(data)"
   ]
  },
  {
   "cell_type": "code",
   "execution_count": 53,
   "id": "fdc22d47-8178-421d-9236-5765ba08909c",
   "metadata": {},
   "outputs": [
    {
     "name": "stdout",
     "output_type": "stream",
     "text": [
      "[1, '레몬', 1500, '레몬에 포함된 구현산은 피로회복에 좋습니다.', 'lemon.jpg']\n",
      "[2, '오렌지', 5000, '비타민 C가 풍부합니다. 생과일 주스로 마시면 좋습니다', 'orange.jpg']\n"
     ]
    }
   ],
   "source": [
    "all_product()"
   ]
  },
  {
   "cell_type": "code",
   "execution_count": 60,
   "id": "90105db7-bda5-4492-be61-0756e8f06c3c",
   "metadata": {},
   "outputs": [],
   "source": [
    "def insert_many_product(datas):\n",
    "    conn=cx_Oracle.connect(\"nyy/1234@localhost:1521/xe\")\n",
    "    cursor=conn.cursor()\n",
    "    sql=\"insert into product values(:1, :2, :3, :4, :5)\"\n",
    "    cursor.executemany(sql, datas)\n",
    "    conn.commit()\n",
    "    conn.close()"
   ]
  },
  {
   "cell_type": "code",
   "execution_count": 62,
   "id": "3b9664d3-2085-4047-9bb9-31ef92b785bd",
   "metadata": {},
   "outputs": [],
   "source": [
    "datas=[(3,'키위',5000,'다이어트나 미용에 좋습니다.','kiwi.jpg'),\n",
    "      (4,'포도',10000,'폴리페놀을 다량함우하고 있어 항산화 작용을 합니다','grape.jpg')]\n",
    "insert_many_product(datas)"
   ]
  },
  {
   "cell_type": "code",
   "execution_count": 63,
   "id": "b9763e9d-6a59-4055-abca-3690c09aaa76",
   "metadata": {},
   "outputs": [
    {
     "name": "stdout",
     "output_type": "stream",
     "text": [
      "[1, '레몬', 1500, '레몬에 포함된 구현산은 피로회복에 좋습니다.', 'lemon.jpg']\n",
      "[2, '오렌지', 5000, '비타민 C가 풍부합니다. 생과일 주스로 마시면 좋습니다', 'orange.jpg']\n",
      "[3, '키위', 5000, '다이어트나 미용에 좋습니다.', 'kiwi.jpg']\n",
      "[4, '포도', 10000, '폴리페놀을 다량함우하고 있어 항산화 작용을 합니다', 'grape.jpg']\n"
     ]
    }
   ],
   "source": [
    "all_product()"
   ]
  },
  {
   "cell_type": "code",
   "execution_count": 64,
   "id": "bd6c26a0-1d28-4e9c-bf7d-8f06b1805b24",
   "metadata": {},
   "outputs": [
    {
     "name": "stdout",
     "output_type": "stream",
     "text": [
      "상품갯수 4\n"
     ]
    }
   ],
   "source": [
    "def select_one():\n",
    "    conn = cx_Oracle.connect(\"nyy/1234@localhost:1521/xe\")\n",
    "    cursor = conn.cursor()\n",
    "    sql = \"select count(*) from product\"\n",
    "    cursor.execute(sql)\n",
    "    count = cursor.fetchone()\n",
    "    print(\"상품갯수\",count[0])\n",
    "    cursor.close()\n",
    "    conn.close()\n",
    "    \n",
    "select_one()"
   ]
  },
  {
   "cell_type": "code",
   "execution_count": null,
   "id": "a9a7d896-78b2-48df-b05c-790d88079a30",
   "metadata": {},
   "outputs": [],
   "source": [
    "# 일부 레코드 삭제\n",
    "def delete_product():\n",
    "    conn = cx_Oracle.connect(\"nyy/1234@localhost:1521/xe\")\n",
    "    cursor = conn.cursor()\n",
    "    sql = \"delete from product where product_id=:product_id\"\n",
    "    cursor.execute(sql,{\"product_id:5\"})\n",
    "    cursor.close()\n",
    "    conn.commit()\n",
    "    conn.close()"
   ]
  },
  {
   "cell_type": "code",
   "execution_count": null,
   "id": "4bc9bb9a-cc2f-4e8d-bc6c-c9aef4f33123",
   "metadata": {},
   "outputs": [],
   "source": [
    "# 모든 레코드 삭제\n",
    "cursor=conn.cursor()\n",
    "sql=\"delete from product\"\n",
    "cursor.execute(sql)"
   ]
  },
  {
   "cell_type": "code",
   "execution_count": null,
   "id": "83d08887-402c-466b-bfb1-abee06d8ac61",
   "metadata": {},
   "outputs": [],
   "source": [
    "def update(price, produce_id):\n",
    "    conn = cx_Oracle.connect(\"nyy/1234@localhost:1521/xe\")\n",
    "    cursor = conn.cursor()\n",
    "    sql = \"update product set price=:1 where produce_id=:2\"\n",
    "    data=(price,product_id)\n",
    "    cursor.execute(sql,data)\n",
    "    conn.commit()\n",
    "    cursor.close()\n",
    "    conn.close()\n",
    "    \n",
    "price = int(input(\"Input price : \"))\n",
    "produce_id = str(input(\"Input product_id : \"))\n",
    "update(price, produce_id)\n",
    "all_product()"
   ]
  },
  {
   "cell_type": "code",
   "execution_count": 41,
   "id": "407028eb-7642-4ce0-a523-57d9e07950df",
   "metadata": {},
   "outputs": [],
   "source": [
    "import pymysql"
   ]
  },
  {
   "cell_type": "code",
   "execution_count": 67,
   "id": "88a7efc7-152d-4548-8e24-73ee9d362642",
   "metadata": {},
   "outputs": [],
   "source": [
    "def insert_one_mysql(data):\n",
    "    conn=pymysql.connect(host='localhost',user='nyy',password='1234',db='py_mysql_db',charset='utf8')\n",
    "    cursor=conn.cursor()\n",
    "    sql=\"insert into books(title,pub,pages,author) values(%s, %s, %s, %s)\"\n",
    "    cursor.execute(sql, data)\n",
    "    conn.commit()\n",
    "    conn.close()   "
   ]
  },
  {
   "cell_type": "code",
   "execution_count": 68,
   "id": "2f2b1910-5ba5-4984-9bfd-78eb2f33886b",
   "metadata": {},
   "outputs": [],
   "source": [
    "data=('Java','한빛',500,'홍길동')\n",
    "insert_one_mysql(data)"
   ]
  },
  {
   "cell_type": "code",
   "execution_count": 70,
   "id": "59f35cfa-ab6b-41fb-943b-f096dda15932",
   "metadata": {},
   "outputs": [],
   "source": [
    "def insert_many_mysql(datas):\n",
    "    conn=pymysql.connect(host='localhost',user='nyy',password='1234',db='py_mysql_db',charset='utf8')\n",
    "    cursor=conn.cursor()\n",
    "    sql=\"insert into books(title,pub,pages,author) values(%s, %s, %s, %s)\"\n",
    "    cursor.executemany(sql, datas)\n",
    "    conn.commit()\n",
    "    conn.close()   "
   ]
  },
  {
   "cell_type": "code",
   "execution_count": 71,
   "id": "73155727-fbc8-4c37-8e23-8d7fdcbbac77",
   "metadata": {},
   "outputs": [],
   "source": [
    "datas=[('데이터베이스','한빛',500,'홍길동'),('스프링','길벗',600,'홍길숙')]\n",
    "insert_many_mysql(datas)"
   ]
  },
  {
   "cell_type": "code",
   "execution_count": null,
   "id": "7e860105-ff29-42b7-955d-d1fc7dbac606",
   "metadata": {},
   "outputs": [],
   "source": [
    "def select_mysql_all():\n",
    "    conn=pymysql.connect(host='localhost',user='nyy',password='1234',db='py_mysql_db',charset='utf8')\n",
    "    cursor=conn.cursor()\n",
    "    sql=\"select * from books\""
   ]
  },
  {
   "cell_type": "code",
   "execution_count": null,
   "id": "50627612-9072-4c69-a020-956487a0f545",
   "metadata": {},
   "outputs": [],
   "source": [
    "select_mysql_all()"
   ]
  },
  {
   "cell_type": "code",
   "execution_count": null,
   "id": "22025c32-0bc5-433b-820c-367884c5a05f",
   "metadata": {},
   "outputs": [],
   "source": [
    "def update_mysql(data):\n",
    "    conn=pymysql.connect(host='localhost',user='nyy',password='1234',db='py_mysql_db',charset='utf8')\n",
    "    cursor=conn.cursor()\n",
    "    sql=\"update books set title=%s,pub=%s,pages=%s,author=%s where id=%s\"\n",
    "    cursor.execute(sql, data)\n",
    "    conn.commit()\n",
    "    conn.close()"
   ]
  },
  {
   "cell_type": "code",
   "execution_count": null,
   "id": "fddc712a-542a-4b8a-a391-a3149d1af1a9",
   "metadata": {},
   "outputs": [],
   "source": [
    "data=('java2','생능','750','박경미',1)\n",
    "update_mysql(data)"
   ]
  },
  {
   "cell_type": "code",
   "execution_count": null,
   "id": "5e9c1f2b-af21-42e5-80d7-c624124c22e1",
   "metadata": {},
   "outputs": [],
   "source": [
    "def delete_mysql(data):\n",
    "    conn=pymysql.connect(host='localhost',user='nyy',password='1234',db='py_mysql_db',charset='utf8')\n",
    "    cursor=conn.cursor()\n",
    "    sql=\"delete from books where id=%s\"\n",
    "    cursor.execute(sql,data)\n",
    "    conn.commit()\n",
    "    conn.close()\n",
    "    7"
   ]
  }
 ],
 "metadata": {
  "kernelspec": {
   "display_name": "Python 3",
   "language": "python",
   "name": "python3"
  },
  "language_info": {
   "codemirror_mode": {
    "name": "ipython",
    "version": 3
   },
   "file_extension": ".py",
   "mimetype": "text/x-python",
   "name": "python",
   "nbconvert_exporter": "python",
   "pygments_lexer": "ipython3",
   "version": "3.8.8"
  }
 },
 "nbformat": 4,
 "nbformat_minor": 5
}
